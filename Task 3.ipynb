{
  "nbformat": 4,
  "nbformat_minor": 0,
  "metadata": {
    "colab": {
      "provenance": []
    },
    "kernelspec": {
      "name": "python3",
      "display_name": "Python 3"
    },
    "language_info": {
      "name": "python"
    }
  },
  "cells": [
    {
      "cell_type": "code",
      "execution_count": 211,
      "metadata": {
        "id": "EHTQPLW4hflP"
      },
      "outputs": [],
      "source": [
        "import numpy as np\n",
        "import pandas as pd\n",
        "import re\n",
        "from nltk.corpus import stopwords\n",
        "from nltk.stem.porter import PorterStemmer\n",
        "from sklearn.feature_extraction.text import TfidfVectorizer\n",
        "from sklearn.model_selection import train_test_split\n",
        "from sklearn.linear_model import LogisticRegression\n",
        "from sklearn.metrics import accuracy_score"
      ]
    },
    {
      "cell_type": "code",
      "source": [
        "import nltk\n",
        "nltk.download('stopwords')"
      ],
      "metadata": {
        "colab": {
          "base_uri": "https://localhost:8080/"
        },
        "id": "aKbcFOE_5ZeY",
        "outputId": "2ee8ed0f-97ae-4710-cbcd-69944f60edb9"
      },
      "execution_count": 212,
      "outputs": [
        {
          "output_type": "stream",
          "name": "stderr",
          "text": [
            "[nltk_data] Downloading package stopwords to /root/nltk_data...\n",
            "[nltk_data]   Package stopwords is already up-to-date!\n"
          ]
        },
        {
          "output_type": "execute_result",
          "data": {
            "text/plain": [
              "True"
            ]
          },
          "metadata": {},
          "execution_count": 212
        }
      ]
    },
    {
      "cell_type": "code",
      "source": [
        "print(stopwords.words('english'))"
      ],
      "metadata": {
        "colab": {
          "base_uri": "https://localhost:8080/"
        },
        "id": "qfkb_GTs5ibm",
        "outputId": "565ee161-73ff-407c-a7c8-8aabec7d172c"
      },
      "execution_count": 213,
      "outputs": [
        {
          "output_type": "stream",
          "name": "stdout",
          "text": [
            "['i', 'me', 'my', 'myself', 'we', 'our', 'ours', 'ourselves', 'you', \"you're\", \"you've\", \"you'll\", \"you'd\", 'your', 'yours', 'yourself', 'yourselves', 'he', 'him', 'his', 'himself', 'she', \"she's\", 'her', 'hers', 'herself', 'it', \"it's\", 'its', 'itself', 'they', 'them', 'their', 'theirs', 'themselves', 'what', 'which', 'who', 'whom', 'this', 'that', \"that'll\", 'these', 'those', 'am', 'is', 'are', 'was', 'were', 'be', 'been', 'being', 'have', 'has', 'had', 'having', 'do', 'does', 'did', 'doing', 'a', 'an', 'the', 'and', 'but', 'if', 'or', 'because', 'as', 'until', 'while', 'of', 'at', 'by', 'for', 'with', 'about', 'against', 'between', 'into', 'through', 'during', 'before', 'after', 'above', 'below', 'to', 'from', 'up', 'down', 'in', 'out', 'on', 'off', 'over', 'under', 'again', 'further', 'then', 'once', 'here', 'there', 'when', 'where', 'why', 'how', 'all', 'any', 'both', 'each', 'few', 'more', 'most', 'other', 'some', 'such', 'no', 'nor', 'not', 'only', 'own', 'same', 'so', 'than', 'too', 'very', 's', 't', 'can', 'will', 'just', 'don', \"don't\", 'should', \"should've\", 'now', 'd', 'll', 'm', 'o', 're', 've', 'y', 'ain', 'aren', \"aren't\", 'couldn', \"couldn't\", 'didn', \"didn't\", 'doesn', \"doesn't\", 'hadn', \"hadn't\", 'hasn', \"hasn't\", 'haven', \"haven't\", 'isn', \"isn't\", 'ma', 'mightn', \"mightn't\", 'mustn', \"mustn't\", 'needn', \"needn't\", 'shan', \"shan't\", 'shouldn', \"shouldn't\", 'wasn', \"wasn't\", 'weren', \"weren't\", 'won', \"won't\", 'wouldn', \"wouldn't\"]\n"
          ]
        }
      ]
    },
    {
      "cell_type": "code",
      "source": [
        "sentiment_data=pd.read_csv('/sentiment_dataset (2) (1).csv',encoding='ISO-8859-1')"
      ],
      "metadata": {
        "id": "GdDuMA1J5qiG"
      },
      "execution_count": 214,
      "outputs": []
    },
    {
      "cell_type": "code",
      "source": [
        "sentiment_data.shape"
      ],
      "metadata": {
        "colab": {
          "base_uri": "https://localhost:8080/"
        },
        "id": "Qe5dsJRp6VJg",
        "outputId": "f509e8f5-f9db-4115-998b-d9bc73fff2c7"
      },
      "execution_count": 215,
      "outputs": [
        {
          "output_type": "execute_result",
          "data": {
            "text/plain": [
              "(30389, 6)"
            ]
          },
          "metadata": {},
          "execution_count": 215
        }
      ]
    },
    {
      "cell_type": "code",
      "source": [
        "sentiment_data.head()"
      ],
      "metadata": {
        "colab": {
          "base_uri": "https://localhost:8080/",
          "height": 379
        },
        "id": "RcGHXLky6edH",
        "outputId": "b31d44bf-9867-4380-f65a-663e10bbe462"
      },
      "execution_count": 216,
      "outputs": [
        {
          "output_type": "execute_result",
          "data": {
            "text/plain": [
              "   val          id                     timestamp     query         username  \\\n",
              "0    0  1467810369  Mon Apr 06 22:19:45 PDT 2009  NO_QUERY  _TheSpecialOne_   \n",
              "1    0  1467810672  Mon Apr 06 22:19:49 PDT 2009  NO_QUERY    scotthamilton   \n",
              "2    0  1467810917  Mon Apr 06 22:19:53 PDT 2009  NO_QUERY         mattycus   \n",
              "3    0  1467811184  Mon Apr 06 22:19:57 PDT 2009  NO_QUERY          ElleCTF   \n",
              "4    0  1467811193  Mon Apr 06 22:19:57 PDT 2009  NO_QUERY           Karoli   \n",
              "\n",
              "                                               tweet  \n",
              "0  @switchfoot http://twitpic.com/2y1zl - Awww, t...  \n",
              "1  is upset that he can't update his Facebook by ...  \n",
              "2  @Kenichan I dived many times for the ball. Man...  \n",
              "3    my whole body feels itchy and like its on fire   \n",
              "4  @nationwideclass no, it's not behaving at all....  "
            ],
            "text/html": [
              "\n",
              "  <div id=\"df-0e2dba94-afb5-43a3-9392-58545a197d4d\" class=\"colab-df-container\">\n",
              "    <div>\n",
              "<style scoped>\n",
              "    .dataframe tbody tr th:only-of-type {\n",
              "        vertical-align: middle;\n",
              "    }\n",
              "\n",
              "    .dataframe tbody tr th {\n",
              "        vertical-align: top;\n",
              "    }\n",
              "\n",
              "    .dataframe thead th {\n",
              "        text-align: right;\n",
              "    }\n",
              "</style>\n",
              "<table border=\"1\" class=\"dataframe\">\n",
              "  <thead>\n",
              "    <tr style=\"text-align: right;\">\n",
              "      <th></th>\n",
              "      <th>val</th>\n",
              "      <th>id</th>\n",
              "      <th>timestamp</th>\n",
              "      <th>query</th>\n",
              "      <th>username</th>\n",
              "      <th>tweet</th>\n",
              "    </tr>\n",
              "  </thead>\n",
              "  <tbody>\n",
              "    <tr>\n",
              "      <th>0</th>\n",
              "      <td>0</td>\n",
              "      <td>1467810369</td>\n",
              "      <td>Mon Apr 06 22:19:45 PDT 2009</td>\n",
              "      <td>NO_QUERY</td>\n",
              "      <td>_TheSpecialOne_</td>\n",
              "      <td>@switchfoot http://twitpic.com/2y1zl - Awww, t...</td>\n",
              "    </tr>\n",
              "    <tr>\n",
              "      <th>1</th>\n",
              "      <td>0</td>\n",
              "      <td>1467810672</td>\n",
              "      <td>Mon Apr 06 22:19:49 PDT 2009</td>\n",
              "      <td>NO_QUERY</td>\n",
              "      <td>scotthamilton</td>\n",
              "      <td>is upset that he can't update his Facebook by ...</td>\n",
              "    </tr>\n",
              "    <tr>\n",
              "      <th>2</th>\n",
              "      <td>0</td>\n",
              "      <td>1467810917</td>\n",
              "      <td>Mon Apr 06 22:19:53 PDT 2009</td>\n",
              "      <td>NO_QUERY</td>\n",
              "      <td>mattycus</td>\n",
              "      <td>@Kenichan I dived many times for the ball. Man...</td>\n",
              "    </tr>\n",
              "    <tr>\n",
              "      <th>3</th>\n",
              "      <td>0</td>\n",
              "      <td>1467811184</td>\n",
              "      <td>Mon Apr 06 22:19:57 PDT 2009</td>\n",
              "      <td>NO_QUERY</td>\n",
              "      <td>ElleCTF</td>\n",
              "      <td>my whole body feels itchy and like its on fire</td>\n",
              "    </tr>\n",
              "    <tr>\n",
              "      <th>4</th>\n",
              "      <td>0</td>\n",
              "      <td>1467811193</td>\n",
              "      <td>Mon Apr 06 22:19:57 PDT 2009</td>\n",
              "      <td>NO_QUERY</td>\n",
              "      <td>Karoli</td>\n",
              "      <td>@nationwideclass no, it's not behaving at all....</td>\n",
              "    </tr>\n",
              "  </tbody>\n",
              "</table>\n",
              "</div>\n",
              "    <div class=\"colab-df-buttons\">\n",
              "\n",
              "  <div class=\"colab-df-container\">\n",
              "    <button class=\"colab-df-convert\" onclick=\"convertToInteractive('df-0e2dba94-afb5-43a3-9392-58545a197d4d')\"\n",
              "            title=\"Convert this dataframe to an interactive table.\"\n",
              "            style=\"display:none;\">\n",
              "\n",
              "  <svg xmlns=\"http://www.w3.org/2000/svg\" height=\"24px\" viewBox=\"0 -960 960 960\">\n",
              "    <path d=\"M120-120v-720h720v720H120Zm60-500h600v-160H180v160Zm220 220h160v-160H400v160Zm0 220h160v-160H400v160ZM180-400h160v-160H180v160Zm440 0h160v-160H620v160ZM180-180h160v-160H180v160Zm440 0h160v-160H620v160Z\"/>\n",
              "  </svg>\n",
              "    </button>\n",
              "\n",
              "  <style>\n",
              "    .colab-df-container {\n",
              "      display:flex;\n",
              "      gap: 12px;\n",
              "    }\n",
              "\n",
              "    .colab-df-convert {\n",
              "      background-color: #E8F0FE;\n",
              "      border: none;\n",
              "      border-radius: 50%;\n",
              "      cursor: pointer;\n",
              "      display: none;\n",
              "      fill: #1967D2;\n",
              "      height: 32px;\n",
              "      padding: 0 0 0 0;\n",
              "      width: 32px;\n",
              "    }\n",
              "\n",
              "    .colab-df-convert:hover {\n",
              "      background-color: #E2EBFA;\n",
              "      box-shadow: 0px 1px 2px rgba(60, 64, 67, 0.3), 0px 1px 3px 1px rgba(60, 64, 67, 0.15);\n",
              "      fill: #174EA6;\n",
              "    }\n",
              "\n",
              "    .colab-df-buttons div {\n",
              "      margin-bottom: 4px;\n",
              "    }\n",
              "\n",
              "    [theme=dark] .colab-df-convert {\n",
              "      background-color: #3B4455;\n",
              "      fill: #D2E3FC;\n",
              "    }\n",
              "\n",
              "    [theme=dark] .colab-df-convert:hover {\n",
              "      background-color: #434B5C;\n",
              "      box-shadow: 0px 1px 3px 1px rgba(0, 0, 0, 0.15);\n",
              "      filter: drop-shadow(0px 1px 2px rgba(0, 0, 0, 0.3));\n",
              "      fill: #FFFFFF;\n",
              "    }\n",
              "  </style>\n",
              "\n",
              "    <script>\n",
              "      const buttonEl =\n",
              "        document.querySelector('#df-0e2dba94-afb5-43a3-9392-58545a197d4d button.colab-df-convert');\n",
              "      buttonEl.style.display =\n",
              "        google.colab.kernel.accessAllowed ? 'block' : 'none';\n",
              "\n",
              "      async function convertToInteractive(key) {\n",
              "        const element = document.querySelector('#df-0e2dba94-afb5-43a3-9392-58545a197d4d');\n",
              "        const dataTable =\n",
              "          await google.colab.kernel.invokeFunction('convertToInteractive',\n",
              "                                                    [key], {});\n",
              "        if (!dataTable) return;\n",
              "\n",
              "        const docLinkHtml = 'Like what you see? Visit the ' +\n",
              "          '<a target=\"_blank\" href=https://colab.research.google.com/notebooks/data_table.ipynb>data table notebook</a>'\n",
              "          + ' to learn more about interactive tables.';\n",
              "        element.innerHTML = '';\n",
              "        dataTable['output_type'] = 'display_data';\n",
              "        await google.colab.output.renderOutput(dataTable, element);\n",
              "        const docLink = document.createElement('div');\n",
              "        docLink.innerHTML = docLinkHtml;\n",
              "        element.appendChild(docLink);\n",
              "      }\n",
              "    </script>\n",
              "  </div>\n",
              "\n",
              "\n",
              "<div id=\"df-b92224d5-789a-4438-b162-5f5bebd72233\">\n",
              "  <button class=\"colab-df-quickchart\" onclick=\"quickchart('df-b92224d5-789a-4438-b162-5f5bebd72233')\"\n",
              "            title=\"Suggest charts\"\n",
              "            style=\"display:none;\">\n",
              "\n",
              "<svg xmlns=\"http://www.w3.org/2000/svg\" height=\"24px\"viewBox=\"0 0 24 24\"\n",
              "     width=\"24px\">\n",
              "    <g>\n",
              "        <path d=\"M19 3H5c-1.1 0-2 .9-2 2v14c0 1.1.9 2 2 2h14c1.1 0 2-.9 2-2V5c0-1.1-.9-2-2-2zM9 17H7v-7h2v7zm4 0h-2V7h2v10zm4 0h-2v-4h2v4z\"/>\n",
              "    </g>\n",
              "</svg>\n",
              "  </button>\n",
              "\n",
              "<style>\n",
              "  .colab-df-quickchart {\n",
              "      --bg-color: #E8F0FE;\n",
              "      --fill-color: #1967D2;\n",
              "      --hover-bg-color: #E2EBFA;\n",
              "      --hover-fill-color: #174EA6;\n",
              "      --disabled-fill-color: #AAA;\n",
              "      --disabled-bg-color: #DDD;\n",
              "  }\n",
              "\n",
              "  [theme=dark] .colab-df-quickchart {\n",
              "      --bg-color: #3B4455;\n",
              "      --fill-color: #D2E3FC;\n",
              "      --hover-bg-color: #434B5C;\n",
              "      --hover-fill-color: #FFFFFF;\n",
              "      --disabled-bg-color: #3B4455;\n",
              "      --disabled-fill-color: #666;\n",
              "  }\n",
              "\n",
              "  .colab-df-quickchart {\n",
              "    background-color: var(--bg-color);\n",
              "    border: none;\n",
              "    border-radius: 50%;\n",
              "    cursor: pointer;\n",
              "    display: none;\n",
              "    fill: var(--fill-color);\n",
              "    height: 32px;\n",
              "    padding: 0;\n",
              "    width: 32px;\n",
              "  }\n",
              "\n",
              "  .colab-df-quickchart:hover {\n",
              "    background-color: var(--hover-bg-color);\n",
              "    box-shadow: 0 1px 2px rgba(60, 64, 67, 0.3), 0 1px 3px 1px rgba(60, 64, 67, 0.15);\n",
              "    fill: var(--button-hover-fill-color);\n",
              "  }\n",
              "\n",
              "  .colab-df-quickchart-complete:disabled,\n",
              "  .colab-df-quickchart-complete:disabled:hover {\n",
              "    background-color: var(--disabled-bg-color);\n",
              "    fill: var(--disabled-fill-color);\n",
              "    box-shadow: none;\n",
              "  }\n",
              "\n",
              "  .colab-df-spinner {\n",
              "    border: 2px solid var(--fill-color);\n",
              "    border-color: transparent;\n",
              "    border-bottom-color: var(--fill-color);\n",
              "    animation:\n",
              "      spin 1s steps(1) infinite;\n",
              "  }\n",
              "\n",
              "  @keyframes spin {\n",
              "    0% {\n",
              "      border-color: transparent;\n",
              "      border-bottom-color: var(--fill-color);\n",
              "      border-left-color: var(--fill-color);\n",
              "    }\n",
              "    20% {\n",
              "      border-color: transparent;\n",
              "      border-left-color: var(--fill-color);\n",
              "      border-top-color: var(--fill-color);\n",
              "    }\n",
              "    30% {\n",
              "      border-color: transparent;\n",
              "      border-left-color: var(--fill-color);\n",
              "      border-top-color: var(--fill-color);\n",
              "      border-right-color: var(--fill-color);\n",
              "    }\n",
              "    40% {\n",
              "      border-color: transparent;\n",
              "      border-right-color: var(--fill-color);\n",
              "      border-top-color: var(--fill-color);\n",
              "    }\n",
              "    60% {\n",
              "      border-color: transparent;\n",
              "      border-right-color: var(--fill-color);\n",
              "    }\n",
              "    80% {\n",
              "      border-color: transparent;\n",
              "      border-right-color: var(--fill-color);\n",
              "      border-bottom-color: var(--fill-color);\n",
              "    }\n",
              "    90% {\n",
              "      border-color: transparent;\n",
              "      border-bottom-color: var(--fill-color);\n",
              "    }\n",
              "  }\n",
              "</style>\n",
              "\n",
              "  <script>\n",
              "    async function quickchart(key) {\n",
              "      const quickchartButtonEl =\n",
              "        document.querySelector('#' + key + ' button');\n",
              "      quickchartButtonEl.disabled = true;  // To prevent multiple clicks.\n",
              "      quickchartButtonEl.classList.add('colab-df-spinner');\n",
              "      try {\n",
              "        const charts = await google.colab.kernel.invokeFunction(\n",
              "            'suggestCharts', [key], {});\n",
              "      } catch (error) {\n",
              "        console.error('Error during call to suggestCharts:', error);\n",
              "      }\n",
              "      quickchartButtonEl.classList.remove('colab-df-spinner');\n",
              "      quickchartButtonEl.classList.add('colab-df-quickchart-complete');\n",
              "    }\n",
              "    (() => {\n",
              "      let quickchartButtonEl =\n",
              "        document.querySelector('#df-b92224d5-789a-4438-b162-5f5bebd72233 button');\n",
              "      quickchartButtonEl.style.display =\n",
              "        google.colab.kernel.accessAllowed ? 'block' : 'none';\n",
              "    })();\n",
              "  </script>\n",
              "</div>\n",
              "\n",
              "    </div>\n",
              "  </div>\n"
            ],
            "application/vnd.google.colaboratory.intrinsic+json": {
              "type": "dataframe",
              "variable_name": "sentiment_data",
              "summary": "{\n  \"name\": \"sentiment_data\",\n  \"rows\": 30389,\n  \"fields\": [\n    {\n      \"column\": \"val\",\n      \"properties\": {\n        \"dtype\": \"number\",\n        \"std\": 0,\n        \"min\": 0,\n        \"max\": 0,\n        \"num_unique_values\": 1,\n        \"samples\": [\n          0\n        ],\n        \"semantic_type\": \"\",\n        \"description\": \"\"\n      }\n    },\n    {\n      \"column\": \"id\",\n      \"properties\": {\n        \"dtype\": \"number\",\n        \"std\": 39334877,\n        \"min\": 1467810369,\n        \"max\": 1563752958,\n        \"num_unique_values\": 30389,\n        \"samples\": [\n          1553858530\n        ],\n        \"semantic_type\": \"\",\n        \"description\": \"\"\n      }\n    },\n    {\n      \"column\": \"timestamp\",\n      \"properties\": {\n        \"dtype\": \"object\",\n        \"num_unique_values\": 24922,\n        \"samples\": [\n          \"Sun Apr 19 04:38:37 PDT 2009\"\n        ],\n        \"semantic_type\": \"\",\n        \"description\": \"\"\n      }\n    },\n    {\n      \"column\": \"query\",\n      \"properties\": {\n        \"dtype\": \"category\",\n        \"num_unique_values\": 1,\n        \"samples\": [\n          \"NO_QUERY\"\n        ],\n        \"semantic_type\": \"\",\n        \"description\": \"\"\n      }\n    },\n    {\n      \"column\": \"username\",\n      \"properties\": {\n        \"dtype\": \"string\",\n        \"num_unique_values\": 26385,\n        \"samples\": [\n          \"waslcajun\"\n        ],\n        \"semantic_type\": \"\",\n        \"description\": \"\"\n      }\n    },\n    {\n      \"column\": \"tweet\",\n      \"properties\": {\n        \"dtype\": \"string\",\n        \"num_unique_values\": 30238,\n        \"samples\": [\n          \"@SmrtCookie I love it more..although I feel bad thinkin about how my life will change  No more parties or late nights\"\n        ],\n        \"semantic_type\": \"\",\n        \"description\": \"\"\n      }\n    }\n  ]\n}"
            }
          },
          "metadata": {},
          "execution_count": 216
        }
      ]
    },
    {
      "cell_type": "code",
      "source": [
        "column_names=['target','id','date','flag','user','tweet']\n",
        "sentiment_data=pd.read_csv('/sentiment_dataset (2) (1).csv',names=column_names,encoding='ISO-8859-1')\n"
      ],
      "metadata": {
        "id": "0cFiRKJlH9qf"
      },
      "execution_count": 217,
      "outputs": []
    },
    {
      "cell_type": "code",
      "source": [
        "sentiment_data.shape"
      ],
      "metadata": {
        "colab": {
          "base_uri": "https://localhost:8080/"
        },
        "id": "3bqxn_PCJLnT",
        "outputId": "833641b7-2bad-4e23-b1c8-005f0fd88f5b"
      },
      "execution_count": 218,
      "outputs": [
        {
          "output_type": "execute_result",
          "data": {
            "text/plain": [
              "(30390, 6)"
            ]
          },
          "metadata": {},
          "execution_count": 218
        }
      ]
    },
    {
      "cell_type": "code",
      "source": [
        "sentiment_data.head()"
      ],
      "metadata": {
        "colab": {
          "base_uri": "https://localhost:8080/",
          "height": 414
        },
        "id": "BXD6E98oIm04",
        "outputId": "d0e15e70-926f-4035-96a6-df88e7080263"
      },
      "execution_count": 219,
      "outputs": [
        {
          "output_type": "execute_result",
          "data": {
            "text/plain": [
              "  target          id                          date      flag             user  \\\n",
              "0    val          id                     timestamp     query         username   \n",
              "1      0  1467810369  Mon Apr 06 22:19:45 PDT 2009  NO_QUERY  _TheSpecialOne_   \n",
              "2      0  1467810672  Mon Apr 06 22:19:49 PDT 2009  NO_QUERY    scotthamilton   \n",
              "3      0  1467810917  Mon Apr 06 22:19:53 PDT 2009  NO_QUERY         mattycus   \n",
              "4      0  1467811184  Mon Apr 06 22:19:57 PDT 2009  NO_QUERY          ElleCTF   \n",
              "\n",
              "                                               tweet  \n",
              "0                                              tweet  \n",
              "1  @switchfoot http://twitpic.com/2y1zl - Awww, t...  \n",
              "2  is upset that he can't update his Facebook by ...  \n",
              "3  @Kenichan I dived many times for the ball. Man...  \n",
              "4    my whole body feels itchy and like its on fire   "
            ],
            "text/html": [
              "\n",
              "  <div id=\"df-81e537a2-72b3-400b-8d71-38477d5772d5\" class=\"colab-df-container\">\n",
              "    <div>\n",
              "<style scoped>\n",
              "    .dataframe tbody tr th:only-of-type {\n",
              "        vertical-align: middle;\n",
              "    }\n",
              "\n",
              "    .dataframe tbody tr th {\n",
              "        vertical-align: top;\n",
              "    }\n",
              "\n",
              "    .dataframe thead th {\n",
              "        text-align: right;\n",
              "    }\n",
              "</style>\n",
              "<table border=\"1\" class=\"dataframe\">\n",
              "  <thead>\n",
              "    <tr style=\"text-align: right;\">\n",
              "      <th></th>\n",
              "      <th>target</th>\n",
              "      <th>id</th>\n",
              "      <th>date</th>\n",
              "      <th>flag</th>\n",
              "      <th>user</th>\n",
              "      <th>tweet</th>\n",
              "    </tr>\n",
              "  </thead>\n",
              "  <tbody>\n",
              "    <tr>\n",
              "      <th>0</th>\n",
              "      <td>val</td>\n",
              "      <td>id</td>\n",
              "      <td>timestamp</td>\n",
              "      <td>query</td>\n",
              "      <td>username</td>\n",
              "      <td>tweet</td>\n",
              "    </tr>\n",
              "    <tr>\n",
              "      <th>1</th>\n",
              "      <td>0</td>\n",
              "      <td>1467810369</td>\n",
              "      <td>Mon Apr 06 22:19:45 PDT 2009</td>\n",
              "      <td>NO_QUERY</td>\n",
              "      <td>_TheSpecialOne_</td>\n",
              "      <td>@switchfoot http://twitpic.com/2y1zl - Awww, t...</td>\n",
              "    </tr>\n",
              "    <tr>\n",
              "      <th>2</th>\n",
              "      <td>0</td>\n",
              "      <td>1467810672</td>\n",
              "      <td>Mon Apr 06 22:19:49 PDT 2009</td>\n",
              "      <td>NO_QUERY</td>\n",
              "      <td>scotthamilton</td>\n",
              "      <td>is upset that he can't update his Facebook by ...</td>\n",
              "    </tr>\n",
              "    <tr>\n",
              "      <th>3</th>\n",
              "      <td>0</td>\n",
              "      <td>1467810917</td>\n",
              "      <td>Mon Apr 06 22:19:53 PDT 2009</td>\n",
              "      <td>NO_QUERY</td>\n",
              "      <td>mattycus</td>\n",
              "      <td>@Kenichan I dived many times for the ball. Man...</td>\n",
              "    </tr>\n",
              "    <tr>\n",
              "      <th>4</th>\n",
              "      <td>0</td>\n",
              "      <td>1467811184</td>\n",
              "      <td>Mon Apr 06 22:19:57 PDT 2009</td>\n",
              "      <td>NO_QUERY</td>\n",
              "      <td>ElleCTF</td>\n",
              "      <td>my whole body feels itchy and like its on fire</td>\n",
              "    </tr>\n",
              "  </tbody>\n",
              "</table>\n",
              "</div>\n",
              "    <div class=\"colab-df-buttons\">\n",
              "\n",
              "  <div class=\"colab-df-container\">\n",
              "    <button class=\"colab-df-convert\" onclick=\"convertToInteractive('df-81e537a2-72b3-400b-8d71-38477d5772d5')\"\n",
              "            title=\"Convert this dataframe to an interactive table.\"\n",
              "            style=\"display:none;\">\n",
              "\n",
              "  <svg xmlns=\"http://www.w3.org/2000/svg\" height=\"24px\" viewBox=\"0 -960 960 960\">\n",
              "    <path d=\"M120-120v-720h720v720H120Zm60-500h600v-160H180v160Zm220 220h160v-160H400v160Zm0 220h160v-160H400v160ZM180-400h160v-160H180v160Zm440 0h160v-160H620v160ZM180-180h160v-160H180v160Zm440 0h160v-160H620v160Z\"/>\n",
              "  </svg>\n",
              "    </button>\n",
              "\n",
              "  <style>\n",
              "    .colab-df-container {\n",
              "      display:flex;\n",
              "      gap: 12px;\n",
              "    }\n",
              "\n",
              "    .colab-df-convert {\n",
              "      background-color: #E8F0FE;\n",
              "      border: none;\n",
              "      border-radius: 50%;\n",
              "      cursor: pointer;\n",
              "      display: none;\n",
              "      fill: #1967D2;\n",
              "      height: 32px;\n",
              "      padding: 0 0 0 0;\n",
              "      width: 32px;\n",
              "    }\n",
              "\n",
              "    .colab-df-convert:hover {\n",
              "      background-color: #E2EBFA;\n",
              "      box-shadow: 0px 1px 2px rgba(60, 64, 67, 0.3), 0px 1px 3px 1px rgba(60, 64, 67, 0.15);\n",
              "      fill: #174EA6;\n",
              "    }\n",
              "\n",
              "    .colab-df-buttons div {\n",
              "      margin-bottom: 4px;\n",
              "    }\n",
              "\n",
              "    [theme=dark] .colab-df-convert {\n",
              "      background-color: #3B4455;\n",
              "      fill: #D2E3FC;\n",
              "    }\n",
              "\n",
              "    [theme=dark] .colab-df-convert:hover {\n",
              "      background-color: #434B5C;\n",
              "      box-shadow: 0px 1px 3px 1px rgba(0, 0, 0, 0.15);\n",
              "      filter: drop-shadow(0px 1px 2px rgba(0, 0, 0, 0.3));\n",
              "      fill: #FFFFFF;\n",
              "    }\n",
              "  </style>\n",
              "\n",
              "    <script>\n",
              "      const buttonEl =\n",
              "        document.querySelector('#df-81e537a2-72b3-400b-8d71-38477d5772d5 button.colab-df-convert');\n",
              "      buttonEl.style.display =\n",
              "        google.colab.kernel.accessAllowed ? 'block' : 'none';\n",
              "\n",
              "      async function convertToInteractive(key) {\n",
              "        const element = document.querySelector('#df-81e537a2-72b3-400b-8d71-38477d5772d5');\n",
              "        const dataTable =\n",
              "          await google.colab.kernel.invokeFunction('convertToInteractive',\n",
              "                                                    [key], {});\n",
              "        if (!dataTable) return;\n",
              "\n",
              "        const docLinkHtml = 'Like what you see? Visit the ' +\n",
              "          '<a target=\"_blank\" href=https://colab.research.google.com/notebooks/data_table.ipynb>data table notebook</a>'\n",
              "          + ' to learn more about interactive tables.';\n",
              "        element.innerHTML = '';\n",
              "        dataTable['output_type'] = 'display_data';\n",
              "        await google.colab.output.renderOutput(dataTable, element);\n",
              "        const docLink = document.createElement('div');\n",
              "        docLink.innerHTML = docLinkHtml;\n",
              "        element.appendChild(docLink);\n",
              "      }\n",
              "    </script>\n",
              "  </div>\n",
              "\n",
              "\n",
              "<div id=\"df-ae2cb81b-5fee-453f-81c2-2d980aec82eb\">\n",
              "  <button class=\"colab-df-quickchart\" onclick=\"quickchart('df-ae2cb81b-5fee-453f-81c2-2d980aec82eb')\"\n",
              "            title=\"Suggest charts\"\n",
              "            style=\"display:none;\">\n",
              "\n",
              "<svg xmlns=\"http://www.w3.org/2000/svg\" height=\"24px\"viewBox=\"0 0 24 24\"\n",
              "     width=\"24px\">\n",
              "    <g>\n",
              "        <path d=\"M19 3H5c-1.1 0-2 .9-2 2v14c0 1.1.9 2 2 2h14c1.1 0 2-.9 2-2V5c0-1.1-.9-2-2-2zM9 17H7v-7h2v7zm4 0h-2V7h2v10zm4 0h-2v-4h2v4z\"/>\n",
              "    </g>\n",
              "</svg>\n",
              "  </button>\n",
              "\n",
              "<style>\n",
              "  .colab-df-quickchart {\n",
              "      --bg-color: #E8F0FE;\n",
              "      --fill-color: #1967D2;\n",
              "      --hover-bg-color: #E2EBFA;\n",
              "      --hover-fill-color: #174EA6;\n",
              "      --disabled-fill-color: #AAA;\n",
              "      --disabled-bg-color: #DDD;\n",
              "  }\n",
              "\n",
              "  [theme=dark] .colab-df-quickchart {\n",
              "      --bg-color: #3B4455;\n",
              "      --fill-color: #D2E3FC;\n",
              "      --hover-bg-color: #434B5C;\n",
              "      --hover-fill-color: #FFFFFF;\n",
              "      --disabled-bg-color: #3B4455;\n",
              "      --disabled-fill-color: #666;\n",
              "  }\n",
              "\n",
              "  .colab-df-quickchart {\n",
              "    background-color: var(--bg-color);\n",
              "    border: none;\n",
              "    border-radius: 50%;\n",
              "    cursor: pointer;\n",
              "    display: none;\n",
              "    fill: var(--fill-color);\n",
              "    height: 32px;\n",
              "    padding: 0;\n",
              "    width: 32px;\n",
              "  }\n",
              "\n",
              "  .colab-df-quickchart:hover {\n",
              "    background-color: var(--hover-bg-color);\n",
              "    box-shadow: 0 1px 2px rgba(60, 64, 67, 0.3), 0 1px 3px 1px rgba(60, 64, 67, 0.15);\n",
              "    fill: var(--button-hover-fill-color);\n",
              "  }\n",
              "\n",
              "  .colab-df-quickchart-complete:disabled,\n",
              "  .colab-df-quickchart-complete:disabled:hover {\n",
              "    background-color: var(--disabled-bg-color);\n",
              "    fill: var(--disabled-fill-color);\n",
              "    box-shadow: none;\n",
              "  }\n",
              "\n",
              "  .colab-df-spinner {\n",
              "    border: 2px solid var(--fill-color);\n",
              "    border-color: transparent;\n",
              "    border-bottom-color: var(--fill-color);\n",
              "    animation:\n",
              "      spin 1s steps(1) infinite;\n",
              "  }\n",
              "\n",
              "  @keyframes spin {\n",
              "    0% {\n",
              "      border-color: transparent;\n",
              "      border-bottom-color: var(--fill-color);\n",
              "      border-left-color: var(--fill-color);\n",
              "    }\n",
              "    20% {\n",
              "      border-color: transparent;\n",
              "      border-left-color: var(--fill-color);\n",
              "      border-top-color: var(--fill-color);\n",
              "    }\n",
              "    30% {\n",
              "      border-color: transparent;\n",
              "      border-left-color: var(--fill-color);\n",
              "      border-top-color: var(--fill-color);\n",
              "      border-right-color: var(--fill-color);\n",
              "    }\n",
              "    40% {\n",
              "      border-color: transparent;\n",
              "      border-right-color: var(--fill-color);\n",
              "      border-top-color: var(--fill-color);\n",
              "    }\n",
              "    60% {\n",
              "      border-color: transparent;\n",
              "      border-right-color: var(--fill-color);\n",
              "    }\n",
              "    80% {\n",
              "      border-color: transparent;\n",
              "      border-right-color: var(--fill-color);\n",
              "      border-bottom-color: var(--fill-color);\n",
              "    }\n",
              "    90% {\n",
              "      border-color: transparent;\n",
              "      border-bottom-color: var(--fill-color);\n",
              "    }\n",
              "  }\n",
              "</style>\n",
              "\n",
              "  <script>\n",
              "    async function quickchart(key) {\n",
              "      const quickchartButtonEl =\n",
              "        document.querySelector('#' + key + ' button');\n",
              "      quickchartButtonEl.disabled = true;  // To prevent multiple clicks.\n",
              "      quickchartButtonEl.classList.add('colab-df-spinner');\n",
              "      try {\n",
              "        const charts = await google.colab.kernel.invokeFunction(\n",
              "            'suggestCharts', [key], {});\n",
              "      } catch (error) {\n",
              "        console.error('Error during call to suggestCharts:', error);\n",
              "      }\n",
              "      quickchartButtonEl.classList.remove('colab-df-spinner');\n",
              "      quickchartButtonEl.classList.add('colab-df-quickchart-complete');\n",
              "    }\n",
              "    (() => {\n",
              "      let quickchartButtonEl =\n",
              "        document.querySelector('#df-ae2cb81b-5fee-453f-81c2-2d980aec82eb button');\n",
              "      quickchartButtonEl.style.display =\n",
              "        google.colab.kernel.accessAllowed ? 'block' : 'none';\n",
              "    })();\n",
              "  </script>\n",
              "</div>\n",
              "\n",
              "    </div>\n",
              "  </div>\n"
            ],
            "application/vnd.google.colaboratory.intrinsic+json": {
              "type": "dataframe",
              "variable_name": "sentiment_data",
              "summary": "{\n  \"name\": \"sentiment_data\",\n  \"rows\": 30390,\n  \"fields\": [\n    {\n      \"column\": \"target\",\n      \"properties\": {\n        \"dtype\": \"category\",\n        \"num_unique_values\": 2,\n        \"samples\": [\n          \"0\",\n          \"val\"\n        ],\n        \"semantic_type\": \"\",\n        \"description\": \"\"\n      }\n    },\n    {\n      \"column\": \"id\",\n      \"properties\": {\n        \"dtype\": \"string\",\n        \"num_unique_values\": 30390,\n        \"samples\": [\n          \"1553858299\",\n          \"1468356673\"\n        ],\n        \"semantic_type\": \"\",\n        \"description\": \"\"\n      }\n    },\n    {\n      \"column\": \"date\",\n      \"properties\": {\n        \"dtype\": \"string\",\n        \"num_unique_values\": 24923,\n        \"samples\": [\n          \"Sun Apr 19 04:38:37 PDT 2009\",\n          \"Sun Apr 19 08:08:44 PDT 2009\"\n        ],\n        \"semantic_type\": \"\",\n        \"description\": \"\"\n      }\n    },\n    {\n      \"column\": \"flag\",\n      \"properties\": {\n        \"dtype\": \"category\",\n        \"num_unique_values\": 2,\n        \"samples\": [\n          \"NO_QUERY\",\n          \"query\"\n        ],\n        \"semantic_type\": \"\",\n        \"description\": \"\"\n      }\n    },\n    {\n      \"column\": \"user\",\n      \"properties\": {\n        \"dtype\": \"string\",\n        \"num_unique_values\": 26386,\n        \"samples\": [\n          \"jujuzim\",\n          \"ashleyjanne\"\n        ],\n        \"semantic_type\": \"\",\n        \"description\": \"\"\n      }\n    },\n    {\n      \"column\": \"tweet\",\n      \"properties\": {\n        \"dtype\": \"string\",\n        \"num_unique_values\": 30239,\n        \"samples\": [\n          \"@ljauss I will try to get a ticket, but I don't have much hope. Cologne is too far to just drive there and hope for the best. \",\n          \"Boooooooooo. Staying indoors while the sun is shining \"\n        ],\n        \"semantic_type\": \"\",\n        \"description\": \"\"\n      }\n    }\n  ]\n}"
            }
          },
          "metadata": {},
          "execution_count": 219
        }
      ]
    },
    {
      "cell_type": "code",
      "source": [
        "sentiment_data.isnull().sum()"
      ],
      "metadata": {
        "colab": {
          "base_uri": "https://localhost:8080/"
        },
        "id": "vKICcBNE8ZCj",
        "outputId": "2484850f-b1f9-4ec5-fe99-f03813a3fa04"
      },
      "execution_count": 220,
      "outputs": [
        {
          "output_type": "execute_result",
          "data": {
            "text/plain": [
              "target    0\n",
              "id        0\n",
              "date      0\n",
              "flag      0\n",
              "user      0\n",
              "tweet     0\n",
              "dtype: int64"
            ]
          },
          "metadata": {},
          "execution_count": 220
        }
      ]
    },
    {
      "cell_type": "code",
      "source": [
        "sentiment_data['target'].value_counts()"
      ],
      "metadata": {
        "colab": {
          "base_uri": "https://localhost:8080/"
        },
        "id": "LZq6ZjCB9Imq",
        "outputId": "ae09e9af-fa26-45da-df90-b711150ddab9"
      },
      "execution_count": 221,
      "outputs": [
        {
          "output_type": "execute_result",
          "data": {
            "text/plain": [
              "target\n",
              "0      30389\n",
              "val        1\n",
              "Name: count, dtype: int64"
            ]
          },
          "metadata": {},
          "execution_count": 221
        }
      ]
    },
    {
      "cell_type": "code",
      "source": [
        "import pandas as pd\n",
        "sentiment_data.loc[sentiment_data['tweet'].str.contains('good|great|awesome', case=False), 'sentiment'] = 'positive'\n",
        "sentiment_data.loc[sentiment_data['tweet'].str.contains('bad|poor|terrible', case=False), 'sentiment'] = 'negative'\n",
        "print(sentiment_data['sentiment'].value_counts())\n"
      ],
      "metadata": {
        "colab": {
          "base_uri": "https://localhost:8080/"
        },
        "id": "GmP1aHLFPpq0",
        "outputId": "cd2dde4b-1f8e-4dbc-978f-799cb585c568"
      },
      "execution_count": 222,
      "outputs": [
        {
          "output_type": "stream",
          "name": "stdout",
          "text": [
            "sentiment\n",
            "positive    1633\n",
            "negative    1188\n",
            "Name: count, dtype: int64\n"
          ]
        }
      ]
    },
    {
      "cell_type": "code",
      "source": [
        "import pandas as pd\n",
        "sentiment_data['target'] = sentiment_data['sentiment'].map({'positive': 1, 'negative': 0})\n",
        "print(sentiment_data['target'].value_counts())\n"
      ],
      "metadata": {
        "colab": {
          "base_uri": "https://localhost:8080/"
        },
        "id": "quBplpIK2yZO",
        "outputId": "5c0f9ceb-9cdd-4426-ec63-e660d9b74d8a"
      },
      "execution_count": 223,
      "outputs": [
        {
          "output_type": "stream",
          "name": "stdout",
          "text": [
            "target\n",
            "1.0    1633\n",
            "0.0    1188\n",
            "Name: count, dtype: int64\n"
          ]
        }
      ]
    },
    {
      "cell_type": "code",
      "source": [
        "sentiment_data['target'].value_counts()"
      ],
      "metadata": {
        "colab": {
          "base_uri": "https://localhost:8080/"
        },
        "id": "aukfym__SgMo",
        "outputId": "df7d7c19-655d-408c-f997-837921924d99"
      },
      "execution_count": 224,
      "outputs": [
        {
          "output_type": "execute_result",
          "data": {
            "text/plain": [
              "target\n",
              "1.0    1633\n",
              "0.0    1188\n",
              "Name: count, dtype: int64"
            ]
          },
          "metadata": {},
          "execution_count": 224
        }
      ]
    },
    {
      "cell_type": "code",
      "source": [
        "print(sentiment_data['sentiment'].unique())\n"
      ],
      "metadata": {
        "colab": {
          "base_uri": "https://localhost:8080/"
        },
        "id": "YE6fWchN4BHn",
        "outputId": "403df5b2-c9a3-412e-eb37-8043d2ebed00"
      },
      "execution_count": 225,
      "outputs": [
        {
          "output_type": "stream",
          "name": "stdout",
          "text": [
            "[nan 'positive' 'negative']\n"
          ]
        }
      ]
    },
    {
      "cell_type": "code",
      "source": [
        "print(sentiment_data[sentiment_data['target'].isnull()])\n"
      ],
      "metadata": {
        "colab": {
          "base_uri": "https://localhost:8080/"
        },
        "id": "tWwfxfRK4GHg",
        "outputId": "b5204c7f-fd26-43ed-ba68-4f5ed1f06660"
      },
      "execution_count": 226,
      "outputs": [
        {
          "output_type": "stream",
          "name": "stdout",
          "text": [
            "       target          id                          date      flag  \\\n",
            "0         NaN          id                     timestamp     query   \n",
            "1         NaN  1467810369  Mon Apr 06 22:19:45 PDT 2009  NO_QUERY   \n",
            "2         NaN  1467810672  Mon Apr 06 22:19:49 PDT 2009  NO_QUERY   \n",
            "3         NaN  1467810917  Mon Apr 06 22:19:53 PDT 2009  NO_QUERY   \n",
            "4         NaN  1467811184  Mon Apr 06 22:19:57 PDT 2009  NO_QUERY   \n",
            "...       ...         ...                           ...       ...   \n",
            "30384     NaN  1563752320  Mon Apr 20 00:06:34 PDT 2009  NO_QUERY   \n",
            "30385     NaN  1563752336  Mon Apr 20 00:06:35 PDT 2009  NO_QUERY   \n",
            "30387     NaN  1563752697  Mon Apr 20 00:06:40 PDT 2009  NO_QUERY   \n",
            "30388     NaN  1563752762  Mon Apr 20 00:06:41 PDT 2009  NO_QUERY   \n",
            "30389     NaN  1563752958  Mon Apr 20 00:06:45 PDT 2009  NO_QUERY   \n",
            "\n",
            "                  user                                              tweet  \\\n",
            "0             username                                              tweet   \n",
            "1      _TheSpecialOne_  @switchfoot http://twitpic.com/2y1zl - Awww, t...   \n",
            "2        scotthamilton  is upset that he can't update his Facebook by ...   \n",
            "3             mattycus  @Kenichan I dived many times for the ball. Man...   \n",
            "4              ElleCTF    my whole body feels itchy and like its on fire    \n",
            "...                ...                                                ...   \n",
            "30384           sphide  ?? metres. Penrhos engine house. Right, home, ...   \n",
            "30385         Bluraven  Watching The Fifth Element on TNT...and strugg...   \n",
            "30387         Natty068  Onwards and upwards - shower and housework are...   \n",
            "30388   patrickjamesyu           Am I dreaming? No. I'm writing  so tired   \n",
            "30389     ElodieCarter  Hi  everybody ! Today I return in school! Nooo...   \n",
            "\n",
            "      sentiment  \n",
            "0           NaN  \n",
            "1           NaN  \n",
            "2           NaN  \n",
            "3           NaN  \n",
            "4           NaN  \n",
            "...         ...  \n",
            "30384       NaN  \n",
            "30385       NaN  \n",
            "30387       NaN  \n",
            "30388       NaN  \n",
            "30389       NaN  \n",
            "\n",
            "[27569 rows x 7 columns]\n"
          ]
        }
      ]
    },
    {
      "cell_type": "code",
      "source": [
        "import pandas as pd\n",
        "sentiment_data.dropna(subset=['target'], inplace=True)\n",
        "sentiment_data.reset_index(drop=True, inplace=True)\n",
        "print(sentiment_data.isnull().sum())\n"
      ],
      "metadata": {
        "colab": {
          "base_uri": "https://localhost:8080/"
        },
        "id": "kAofjjso4dnr",
        "outputId": "ffc452cc-e51f-4d0d-f7f0-5a10fea77d4e"
      },
      "execution_count": 227,
      "outputs": [
        {
          "output_type": "stream",
          "name": "stdout",
          "text": [
            "target       0\n",
            "id           0\n",
            "date         0\n",
            "flag         0\n",
            "user         0\n",
            "tweet        0\n",
            "sentiment    0\n",
            "dtype: int64\n"
          ]
        }
      ]
    },
    {
      "cell_type": "code",
      "source": [
        "\n",
        "port_stem=PorterStemmer()"
      ],
      "metadata": {
        "id": "F5KTZGZi9mK2"
      },
      "execution_count": 228,
      "outputs": []
    },
    {
      "cell_type": "code",
      "source": [
        "def stemming(content):\n",
        "  stemmed_content=re.sub('[^a-zA-Z]',' ',content)\n",
        "  stemmed_content=stemmed_content.lower()\n",
        "  stemmed_content=stemmed_content.split()\n",
        "  stemmed_content=[port_stem.stem(word) for word in stemmed_content if not word in stopwords.words('english')]\n",
        "  stemmed_content=' '.join(stemmed_content)\n",
        "  return stemmed_content"
      ],
      "metadata": {
        "id": "ZizCC7Vt_P49"
      },
      "execution_count": 229,
      "outputs": []
    },
    {
      "cell_type": "code",
      "source": [
        "sentiment_data['stemmed_content']=sentiment_data['tweet'].apply(stemming)"
      ],
      "metadata": {
        "id": "MoeBImgfART8"
      },
      "execution_count": 230,
      "outputs": []
    },
    {
      "cell_type": "code",
      "source": [
        "print(sentiment_data['target'])"
      ],
      "metadata": {
        "colab": {
          "base_uri": "https://localhost:8080/"
        },
        "id": "SyPuEPHdAyJk",
        "outputId": "3fa7f1b9-ab52-4f31-bcb2-a756d46469a8"
      },
      "execution_count": 231,
      "outputs": [
        {
          "output_type": "stream",
          "name": "stdout",
          "text": [
            "0       1.0\n",
            "1       0.0\n",
            "2       0.0\n",
            "3       0.0\n",
            "4       0.0\n",
            "       ... \n",
            "2816    1.0\n",
            "2817    1.0\n",
            "2818    0.0\n",
            "2819    1.0\n",
            "2820    1.0\n",
            "Name: target, Length: 2821, dtype: float64\n"
          ]
        }
      ]
    },
    {
      "cell_type": "code",
      "source": [
        "x=sentiment_data['stemmed_content'].values\n",
        "y=sentiment_data['target'].values"
      ],
      "metadata": {
        "id": "k5JjRFUMBMgn"
      },
      "execution_count": 232,
      "outputs": []
    },
    {
      "cell_type": "code",
      "source": [
        "print(x)\n"
      ],
      "metadata": {
        "colab": {
          "base_uri": "https://localhost:8080/"
        },
        "id": "SwLnvDcKBgBg",
        "outputId": "94a46533-7046-4bcd-81c8-9f5f62c5aaa7"
      },
      "execution_count": 233,
      "outputs": [
        {
          "output_type": "stream",
          "name": "stdout",
          "text": [
            "['cocomix ill tell ya stori later good day ill workin like three hour'\n",
            " 'nice day bad rain come tomorrow'\n",
            " 'starrbbi bad around lost job even pay phone bill lmao aw shuck' ...\n",
            " 'bnik never bad past week crappi poor sk lol laugh way loud mother f'\n",
            " 'great start quot hatefulmonday quot feel like pack leav alway say leav ugli earli work busi work'\n",
            " 'good morn twitter start anoth long week oh love monday morn']\n"
          ]
        }
      ]
    },
    {
      "cell_type": "code",
      "source": [
        "\n",
        "print(y)"
      ],
      "metadata": {
        "colab": {
          "base_uri": "https://localhost:8080/"
        },
        "id": "KTEn4_1WBkGp",
        "outputId": "f7571c17-b421-4257-b1d4-6f9393b7e554"
      },
      "execution_count": 234,
      "outputs": [
        {
          "output_type": "stream",
          "name": "stdout",
          "text": [
            "[1. 0. 0. ... 0. 1. 1.]\n"
          ]
        }
      ]
    },
    {
      "cell_type": "code",
      "source": [
        "x_train,x_test,y_train,y_test=train_test_split(x,y,test_size=0.2,stratify=y,random_state=2)"
      ],
      "metadata": {
        "id": "qukrVuCwBmlK"
      },
      "execution_count": 235,
      "outputs": []
    },
    {
      "cell_type": "code",
      "source": [
        "print(x.shape,x_train.shape,x_test.shape)"
      ],
      "metadata": {
        "colab": {
          "base_uri": "https://localhost:8080/"
        },
        "id": "sr1rAPswCMo1",
        "outputId": "c986965c-9cbd-4081-8167-1c7ebb64aa7e"
      },
      "execution_count": 236,
      "outputs": [
        {
          "output_type": "stream",
          "name": "stdout",
          "text": [
            "(2821,) (2256,) (565,)\n"
          ]
        }
      ]
    },
    {
      "cell_type": "code",
      "source": [
        "print(x_train)"
      ],
      "metadata": {
        "colab": {
          "base_uri": "https://localhost:8080/"
        },
        "id": "TO2-Pjn1Cdaj",
        "outputId": "d31b294b-6e43-45bd-cdfb-4d6b712f7bea"
      },
      "execution_count": 237,
      "outputs": [
        {
          "output_type": "stream",
          "name": "stdout",
          "text": [
            "['beanlavign good morn hope enjoy caffein kick mine awak watch idea'\n",
            " 'lickmycupcak oh poor puppi what wrong' 'masterawesom pleas school' ...\n",
            " 'love spring ohio snow accumul expect though suppos start warm tomorrow thank good'\n",
            " 'miss hmmm good question tweet wish could go x'\n",
            " 'mkr u thesis good finish part work week yay']\n"
          ]
        }
      ]
    },
    {
      "cell_type": "code",
      "source": [
        "print(x_test)"
      ],
      "metadata": {
        "colab": {
          "base_uri": "https://localhost:8080/"
        },
        "id": "ApLi7HojCjrW",
        "outputId": "83155fa3-882e-489f-8cfd-3eaae861dae6"
      },
      "execution_count": 238,
      "outputs": [
        {
          "output_type": "stream",
          "name": "stdout",
          "text": [
            "['marielmendoza ive good dont even see campu miss'\n",
            " 'faz yeah glad work look job offer good one' 'feel good' 'bad headach'\n",
            " 'bed feel like crap stay watch ufc need sleep badli'\n",
            " 'keeilaa ah watercolor miss bad'\n",
            " 'realiz spend almost preciou weekend sleep wast bad sleep depriv well'\n",
            " 'back home longgg day today parti time bad miss someon pretti darn special lt'\n",
            " 'ahh crap penalti unit good atm' 'realli dont feel good right'\n",
            " 'good news bad news warm relat havana good cigar tax though one'\n",
            " 'greeneggznham yeah let go find new good guy oh wait realli exist ugh blown'\n",
            " 'goodby disneyland go melros'\n",
            " 'noth say good morn like voic mia oh work gonna much fun today'\n",
            " 'noth put buy product badli dub foreign advert'\n",
            " 'woke find snow scrape car degre miss fl disney famili bad'\n",
            " 'dang neck hurt baddd want cri peac' 'awesomebrian much suck retir time'\n",
            " 'axon got cancel everybodi els rattl brain amp makin cuss someth terribl'\n",
            " 'purpl hoodi quit bad break drop mobil fair bit'\n",
            " 'joelmadden omg movi iss soo sad seen cinema realli bad idea haha cri much sadd'\n",
            " 'algorithmfundfx good' 'bed suddenli feel wish w goodnight twitterfam'\n",
            " 'great weekend birthday went bang lol back colleg mro'\n",
            " 'tommcfli http twitpic com kygb uuuh seem much delici poor coffe like even go'\n",
            " 'man mini fridg awesom damn upset know bedroom pleas dad pleas let'\n",
            " 'look great day outsid today shall oh yeah shop'\n",
            " 'good day bad night know exactli shoot'\n",
            " 'luvinjk ever hey grow us good player would ya indian got ass hand yesterday'\n",
            " 'lunch damn pant keep fall get good pant clean'\n",
            " 'nicolawil chat line yet freeview good'\n",
            " 'watch wow wow wubzi logan say goodby shandi im go miss'\n",
            " 'feel blue almost everybodi say joke bad' 'levenrambin take easi good'\n",
            " 'librari bad time' 'ahhh fftl merch site soooo cheap want im poor'\n",
            " 'tessdejong bad bday parti hehe' 'read dissert bad time'\n",
            " 'acum got return ticket book weekend exchang rate bad go mind miss realli'\n",
            " 'hammock weather bad hammock stuck storag unit'\n",
            " 'jambothejourno inde one rlc interview good stuff thought final found someth one els'\n",
            " 'oh gosh pleas okay hunwick ruptur spleen bad news bear'\n",
            " 'penndbad send dvd co miss heap happi' 'dog good get better soon x x'\n",
            " 'sneaki awesom last night feet sore today'\n",
            " 'lillyputian what gotten day go state bad luck keep break stuff'\n",
            " 'dawnstensland hahha prob would watch fox hour watch tonight pm bad'\n",
            " 'bleach hair third time four day ho hummm got go later post gazillion thing ive sold bad'\n",
            " 'tittch oh tittch sorri get say goodby hug'\n",
            " 'yuyoun good time shop sorri taeyeon' 'bore bad head ach'\n",
            " 'studi final bad beauti outsid'\n",
            " 'poorli sick wish lot peopl give sympathi amp flower'\n",
            " 'take much need nake time bad alon nake time' 'imifi work good imbot'\n",
            " 'feel poorli sorri swallow ow stupid gland'\n",
            " 'watch australia whoppin great pile steam hot hors faec baz hang head shame'\n",
            " 'oh dear oh dear look good guess might look forward palac v newcastl next season'\n",
            " 'freakin throat hurt amp eye burn boo think get sick poor'\n",
            " 'good night week good morn monday'\n",
            " 'juli moor bad mood knacker gener feel like sh stay bed'\n",
            " 'wait week find write good sux' 'tri heal relationship work good'\n",
            " 'finish make browni hungri must stay away chocol bad'\n",
            " 'miss train york wifi blackberri batteri go die soon good start day'\n",
            " 'lonestar time work gaygaygaygay hope everyon els havign good monday afternoon'\n",
            " 'hmm back school tomorrow good could cri'\n",
            " 'look like great seri differ bike marqu http gd rcb discoveri hd'\n",
            " 'cherrybumbum lose video camera poor thing'\n",
            " 'wish bahama see jonasbroth love guy lt good luck concert'\n",
            " 'go perform good friend nicol brilhant thursday ho pleas come one els'\n",
            " 'lip ring fell sleep didnt notic till hurt realli bad put back cuz heal littl'\n",
            " 'play anoth hand bad lost half stack'\n",
            " 'go bed caus melissa doesnt want watch movi goodnight world'\n",
            " 'hate good day end bad' 'miss girl go bed goodnight'\n",
            " 'grim weeder aw poor weeder herbert peopl feel need spoil love thing'\n",
            " 'mexican midnight bad choic' 'bad headach hurt wrist want next saturday'\n",
            " 'terribl toothach feel grumpi hotel write work queue'\n",
            " 'mrjaredjam fine xd run onlin shop pretti good miss graphic design though'\n",
            " 'dfvsion poor msu feel bad taco bell sound realli freak good right thank might get'\n",
            " 'dancerboy true good thing stephen pillow lose stephen ness though'\n",
            " 'nurs rather poorli dural tear inact sacrum'\n",
            " 'go home surveri class super tire math ahhh feel great bc learn lot http twitpic com j'\n",
            " 'chill bad want curl ball die'\n",
            " 'use handicap stall walk guy wheelchair wait feel bad'\n",
            " 'ddlovato great day demi school haha x' 'argh bad luck unstabl network'\n",
            " 'bring babi dr today yuck poor littl dude im hope allergi begin someth seriou'\n",
            " 'saragarth laugh poor tree face branch omg rude hahahaha poor tree must bore stationari life'\n",
            " 'josephcorreia good morn bud workshop conflict afternoon may struggl attend'\n",
            " 'good trip shop new mac mag read cuppa almost lash new lens camera decid mani hundr'\n",
            " 'pfspleen ha ha much better man although good databas school'\n",
            " 'suppos go camp weekend bad weather chang plan'\n",
            " 'akianz rent cheap rent awesom hous buy attempt fall'\n",
            " 'listen awesom song dnt name wanna upload limewir'\n",
            " 'perezhilton good question realli surpris answer still peopl think'\n",
            " 'know wrong player hous last night go watch dvd work bad time'\n",
            " 'bad start shanghai gp today'\n",
            " 'dannywood wish outsid hi jordan jon great show love u' 'bad day'\n",
            " 'good morn well noon feel stuffi congest see uncl seen year today'\n",
            " 'lot today probabl good thing rain bike'\n",
            " 'yaseminx aw poor amp heidi make sick xd'\n",
            " 'morn good im bloodi knacker work today helppp xxx'\n",
            " 'sammarinucci saw trailer sister keeper look realli good realli fan cast'\n",
            " 'congrat anyasnad confirm good night firend soon'\n",
            " 'robadvertis go check gloss week http shopgloss com snow foco take tree'\n",
            " 'want celebr come england miss florida real bad'\n",
            " 'sunii made store near school awesom click think sorri dream'\n",
            " 'car way boat mommi bad mood'\n",
            " 'simoncurti wanna bad love place even tho ive nvr ive san diego amp luvd warm amp event'\n",
            " 'great flight tokyo bad miss connect bangkok wait till morn'\n",
            " 'mikeyof expect new episod till may good see earli suck last'\n",
            " 'fabwrldgoodlif tell love much congratul engag got la gone entir weekend miss u'\n",
            " 'charli hors middl night terribl dream sick'\n",
            " 'way c day jillian charter bu pee realli bad traffic'\n",
            " 'edinburghblog sheep heid nowher near good use'\n",
            " 'dude found badass pair dr marten still much money'\n",
            " 'mussomitchel contest awesom fan miss minut rat oh well im pump next one haha'\n",
            " 'jennymac dunno good wish new tho come dont even haha'\n",
            " 'txt chat jake lmfao frikkin awesom miss effin boy much awww hope guy would come back na xxxx'\n",
            " 'homee terribl headach' 'sad hear discoveri littl girl traci poor famili'\n",
            " 'miss yuukicherri bad hope home soon'\n",
            " 'izzi u thank dear two tremor today ok poor peopl l aquila realli difficulti'\n",
            " 'may never drink pop brought bad nutcrack esophagu symptom big time last night'\n",
            " 'sun ner great lunch break project time upcom meet masterplan sound import'\n",
            " 'good morn yesterday helluva day still tire'\n",
            " 'haha sooo bore friend great oh broke tv'\n",
            " 'unexpect happen ten close one night great memori see'\n",
            " 'good turnout parti though kinda world reason guess much mind'\n",
            " 'good morn fight cold need get oj fast'\n",
            " 'go sleep long day chip fuckin tooth night everyon good dream'\n",
            " 'simplyshannon good luck band loud accompani joe part hear word'\n",
            " 'still awak feel horribl good'\n",
            " 'get readi nummi roast dinner mah famili news heath ledger rock joker poor heath'\n",
            " 'weesweetmari sorri hear bad news hope rest sunday better'\n",
            " 'ping kyle custom icon made look cool edg could less squar might look bad diff background'\n",
            " 'school tomorrow eh good way catch friend want get'\n",
            " 'lesli g stack injur rowdi fan think go great game'\n",
            " 'great left best friend'\n",
            " 'reason could outlook poor ms word base html render engin last centuri'\n",
            " 'great night bad revel alway want someon'\n",
            " 'askajanyth send realli realli good thought'\n",
            " 'nice time last night wish would hung longer overal great day cap great night friend drink fun'\n",
            " 'ophelia danni angela craig robert great day though'\n",
            " 'ufc good fight rua back liddel gone silva need quit danc around end fight'\n",
            " 'prosperityg damn seen messag day ago could great coffe togeth'\n",
            " 'oh god im stalk peopl poor'\n",
            " 'good morn today b short day tomorrow school'\n",
            " 'sabret uh uh poor paul how weather good ole ldn town head ur way friday'\n",
            " 'great week work priscilla queen evil vacat back monday'\n",
            " 'karen shop sound like terribl plan hope drag brother time p'\n",
            " 'chicago bad miss game lmao'\n",
            " 'jradc day hell work end badli start whole hour went'\n",
            " 'aww sandra cantu found dead suitcas miss children stori never seem go good poor famili'\n",
            " 'cynniem oooh grey garden sound good dont hbo'\n",
            " 'sick bad nice weather outsid darn oh watch hero yay parkmann met son soo ador'\n",
            " 'phew let us cat okay scare death bad owner leav home alon like'\n",
            " 'treydockeri poor dog look like amp kati match anyon know kill shelter desoto counti pleas help'\n",
            " 'feel gener icki usual good sign get emot migrain way'\n",
            " 'ummm yeah blow lead th good time come fella angel'\n",
            " 'jordangoodrich miss molli song song'\n",
            " 'icegirl sound amaz valentin day tri mac chees crab lobster meat good'\n",
            " 'want go back school mayb theyr good gossip though ugh test soon'\n",
            " 'happi mainten happen bathroom past min hungov good'\n",
            " 'kkartphoto yeah nuke soon got work great asid fact load mac'\n",
            " 'fmonyourdi get em good show wish abl make booo gotta catch anoth one soon'\n",
            " 'naupt buna good night pleas pray us lost bf grandma sibiu romania get see sinc year ago'\n",
            " 'jbeauti lol goodnight'\n",
            " 'keep work place cycl work scheme disc halfaud good enough'\n",
            " 'good morn cloudi day hate cold spring morn' 'starv there good food'\n",
            " 'keithalink probabl bad guess'\n",
            " 'suppos rain today still good day curl w book'\n",
            " 'good morn everyon rob tri pull foot mouth morn'\n",
            " 'unemploy fun bad mine come end'\n",
            " 'go livi parti later realli freak tire alergi extrem bad last night couldnt sleep'\n",
            " 'jameshancox great idea invit queen vic market friday realis good friday close'\n",
            " 'start get bad headach' 'cassiefx eat someth bad'\n",
            " 'call anim control feel good kitten pick option point' 'bad day'\n",
            " 'shakey much fun like alway good time come end'\n",
            " 'bloom great chang weather cold luck seem much luck late life suck mo'\n",
            " 'okay stomach pain good week idgi also pussycat doll new favorit band'\n",
            " 'hate goodby' 'booooo see photo reason glad hear naga good time miss u'\n",
            " 'simplygabi im sorri hear u bad day'\n",
            " 'simsbiz ouch smash hard bad word came mouth jet black amp sore month'\n",
            " 'mrsgoodal jaunt work earli imagin get earlier'\n",
            " 'meet dar today n that bad co miss badli sick btw'\n",
            " 'made good classif pastpap essay topic comfort'\n",
            " 'discov princess outsid rain night poor babi'\n",
            " 'realli let gossip girl make monday good give rerun'\n",
            " 'hate awak go school western civ present andn realli awesom lunch'\n",
            " 'good night sweet dream yall wish l right' 'tire dont feel good'\n",
            " 'toniareda awe poor thing bake cooki make feel better'\n",
            " 'probabl go doctor tomorrow back hurt bad'\n",
            " 'mrskutcher lol wish bad sync germani right subtitl dont work lol'\n",
            " 'late sleep bf piss good earli morn long day ahead hope sleep soon'\n",
            " 'vapour super sorri hear send good thought way'\n",
            " 'good morn twittervers rain return midwest'\n",
            " 'area nightclub make bewilld uni student arriv home poor folk like struggl'\n",
            " 'cameronmstewart take smoke could sound badass like lawrenc tierney probabl end sound like june gabl'\n",
            " 'willi day want see guy realli bad tonight pleasur see ya perform live yet'\n",
            " 'bad day need comfort drink sip mocha frap starbuck tricia tire'\n",
            " 'willcarl anoth tri blue good gloucest chanc'\n",
            " 'http twitpic com ya c good f morn springtim ass global warm suck'\n",
            " 'independ sleep gonna need batch good good coffe'\n",
            " 'gonna great day member team'\n",
            " 'great night expens mediocr dinner dreamland go'\n",
            " 'mhoobler oh noe hope abl resucit car bad way end weekend inde'\n",
            " 'tonyhawk like disco awesom metal skatepunk'\n",
            " 'lorenzohenri im chines take probabl good italian'\n",
            " 'almost got kill softbal great someon take home'\n",
            " 'lol anna schmanc soo wanna meet holiday man haha im miss bad'\n",
            " 'jaylnn glad got come visit sorri get say goodby'\n",
            " 'good morn twit lt beauti day bad sick'\n",
            " 'got lil hangov last night ouch good'\n",
            " 'awesom barbequ today wish degre day miss degre southern california weather'\n",
            " 'alstray oh poor wee thing nice hear rescu though' 'concentr life good'\n",
            " 'man utd final chelsea everton great'\n",
            " 'good morn tweet sad true wekend almost end'\n",
            " 'bad miss amster gold race today pretti much goe street netherland'\n",
            " 'goodnight' 'paintedfac x oh know bad time twitter convo tonight'\n",
            " 'talk awesom guy im fall alway live far away'\n",
            " 'g kgurrl aaw great two silli cat littl pooch daphn smaller cat cat huge'\n",
            " 'observ duck stupid paper today good day'\n",
            " 'saw first close person kindl use even badass expect want one'\n",
            " 'wake idea time great feel shame last'\n",
            " 'flawless babi eat prune today final went poor babi'\n",
            " 'teeth hurt sooooo bad' 'want feel good'\n",
            " 'fair ride tilt whirl bad santana play anymor'\n",
            " 'poor show man utd front home crowd gonna everton vs chelsea fa cup final'\n",
            " 'toe got rip open hurt bad tini im never play beach footbal'\n",
            " 'tottenham newcastl ouch newcastl look good drop'\n",
            " 'danoool hahhahah imagin would caus great laughter wish gut'\n",
            " 'jasonmitchen well good right minut ago wherea notic big tree fell backyard'\n",
            " 'sri neglect twitter feel bad work crazi im' 'samshepherd darn seem good'\n",
            " 'goodby everyon work'\n",
            " 'home flu ahhh suxz well tire go sleep hour goodnit'\n",
            " 'reverendvinc great show last night got late see fuckin light bright'\n",
            " 'go sleep migrain rez great fun rez twitter drive home safe'\n",
            " 'msn delet contact awesom add'\n",
            " 'understand best peopl world thrown ground evil wish life fair good'\n",
            " 'today good bowl day' 'ankit j yeah bad yaar'\n",
            " 'good morn work wanna fuckit anoth day anoth dollar'\n",
            " 'anoth fyi blackberri decid make difficult quot r quot key work spell bad enough make'\n",
            " 'hate say goodby ugggggh'\n",
            " 'jonathanrknight good knight hun look forward ur tweet hate keep miss fun cuz time differ'\n",
            " 'bed bad nite gonna yet wanna chang'\n",
            " 'solangeknowl poor eat downtown anywher near lol sorri help hope good time da chi'\n",
            " 'god back work great easter break morn hurt' 'chulinconfli poor bebe'\n",
            " 'head airport boo goodby sunni florida goodby kostya hiltz goodby allig miss thee'\n",
            " 'tire woke morn sound digger rip next door drive bad may think ahhhh clock'\n",
            " 'back work great weekend brother left home gone back england though gorgeou nephew miss'\n",
            " 'ugh book melodramat badli drawn bad choic first book readathon'\n",
            " 'realli night good talk counselor monday unfound worri immin death annoy'\n",
            " 'whitsunday great time year eat much must diet'\n",
            " 'chynnasaur nooo bet would look good'\n",
            " 'goodnight idk look forward tomorrow'\n",
            " 'hungri cours noth eat gonna watch snl bed goodnight'\n",
            " 'realli want go back chicago like hear bad politician oprah hate oprah day left uk'\n",
            " 'im fill brim good thing workday tomorrow though think go work'\n",
            " 'beauti day bad spend day clean hous'\n",
            " 'cousin jc tri get back car extrem late work gunna late though think worth good day'\n",
            " 'sorri sf reschedul sf trip come weekend mid may bad circumst'\n",
            " 'themandymoor want watch dedic find store great movi way'\n",
            " 'kjl awww well good suck michigan lost comment need rest'\n",
            " 'selenagomez realli wanna see movi hope good'\n",
            " 'tri pictur taken jimmycarr got turn away rustyrocket great though'\n",
            " 'svanna disert go weekend good thank went beach neil even back work today'\n",
            " 'home weekend drown grey anatomi n hous dvd nurs realli bad abdomen cramp'\n",
            " 'mattlopez im sleepi get good night rest that ok tonight im go go enjoy sunshin today'\n",
            " 'sparkskincad good ken sorri still realli get whole twitter thing know respond'\n",
            " 'wanna talk bad' 'bad cant buy' 'noreaga cigarett bad'\n",
            " 'listen last shallow thought good one christianaelli ohhh listen feedback show'\n",
            " 'poor doesnt sound good'\n",
            " 'watch twilight vanessa never get tire edward lol feet ton ant bite sleepi goodnight'\n",
            " 'lmchugh nope saturday game good even wors result come carlton'\n",
            " 'suck heather sewag bath xp poor owen bear total drama island'\n",
            " 'nick carter sure bad denver need hurri make million veterinari degre buy jet'\n",
            " 'hard leav good friend see everi month'\n",
            " 'throat close string chees good idea'\n",
            " 'donat sperm afternoon realli made think mortal poor littl bugger probabl frozen'\n",
            " 'updat blog bad privat'\n",
            " 'end day hope today sunshin cuz last week bad enough'\n",
            " 'pushplaynick ahhh wish could come mad good luck tonight love miss guy lt mr cjbaran lt'\n",
            " 'show yesterday made miss yf bad show work rel show miss life outsid class'\n",
            " 'well good night follow wish' 'rain bad'\n",
            " 'outsid also wash cloth n also waitn son come say goodby'\n",
            " 'terribl dream last night dream funer friend woke mail facebook came bday today'\n",
            " 'good morn sleep' 'work realli tire morn still feel good get better'\n",
            " 'goodmorn everyon jeeej granni come surinam month miss'\n",
            " 'itplatform littl late bad' 'got realli bad earach anyon cure'\n",
            " 'feel soooo bad doglet understand mouth sore poor littl thing'\n",
            " 'better go bed go school tomorrow good night everyon xo'\n",
            " 'back form ireland great time want come home got dog famili tend come back'\n",
            " 'saturday night dy hair today feel good way look comput'\n",
            " 'jjproject mayb broken mbp ebay one broken screen someth good luck'\n",
            " 'evaurgirl lol winter season wanna experi sooo badli alway hot cz tropic weather'\n",
            " 'need ticketmast give good news soon' 'jshe ahh still feel bad sorri'\n",
            " 'goodnight gotta read book class moro'\n",
            " 'jaxthatgirl yeah sorri spoil v good ep unexpect def catch'\n",
            " 'nebraska seem awesom tailgait happen anywher appar wish could make connect chicago'\n",
            " 'fun shangri la last night bad kolbi go back fl today'\n",
            " 'think away piss great' 'pen ran ink go good day'\n",
            " 'high clean salon great custom low bird tweet wake result super tire'\n",
            " 'jackieisgreat oh honey hope everyth okay' 'back pool hall food bad'\n",
            " 'great day shame end' 'inch snow ground count worri poor flower'\n",
            " 'good morn freight train good morn twitter weather favour drive today'\n",
            " 'pari feel way earli today jg ballard die sad half way drown world good'\n",
            " 'well know wrong spine noth fix right great time med bed time stori life'\n",
            " 'jusr woke jesu christ good sleeep'\n",
            " 'mark martin win bad yr old young man sport kasey kahn guy suck usual need new team'\n",
            " 'orangi gp honestli good work get bodi clock round normal time ruin'\n",
            " 'wow shout box kick get back guess mean good night'\n",
            " 'asot trend topic bad asot http bit ly yp' 'one hour late bad plumber'\n",
            " 'yo ear hurt bad cri wait dr offic open get appt least snow ground'\n",
            " 'aaronwel like blond kept catch look bad leav lol' 'great weather go'\n",
            " 'charliehedg im glad good second day spent nd day garden mani bug style'\n",
            " 'way earli good sunday school work group present' 'feel good morn'\n",
            " 'could quit rain would super http bit ly efwcz http bit ly nbgov poor plant'\n",
            " 'jemijemi footwear respons convers star shred poor feet'\n",
            " 'fatal dont trader joe fl actual poor healthfood store select need move lol'\n",
            " 'smell bbq outsid go stink work great'\n",
            " 'salmon good nigiri sushi disgust way find'\n",
            " 'done gym good say mirror realli glad leav'\n",
            " 'slept lot today feel well bad stomach pain hab lost blackhawk woot play game brother'\n",
            " 'lolzitsmel paranorm pretti good tonight'\n",
            " 'race good ran better last time see ff amydoesit though'\n",
            " 'hello twitterland nice insid work good thing make progress even process order'\n",
            " 'badassyella u kno yu b getn bot nigga shit worri tho yu gon see wholllee lot soon'\n",
            " 'still love movi quot wish upon star quot katherin heigl bad disney show anymor'\n",
            " 'would emot suddenli pour rememb someth happen n im badli feel'\n",
            " 'llordllama oh obadiah name start e gener good'\n",
            " 'anoth bad game angel thank good anteat well els depress basebal weekend'\n",
            " 'good raini morn tweepl' 'jyk felt bad'\n",
            " 'sad discov awesom headphon reach far toilet door close enough distanc wee'\n",
            " 'snicker like twenti minut think awesomest name ever'\n",
            " 'amandabyn tomorrow last day spring break im huge fan ireland way awesom actress singer'\n",
            " 'woww good time last night lil hungov work'\n",
            " 'awesomearianna know tfa seem total disappear'\n",
            " 'parti good last night rice crispi yeahh die laughter go winter hill today good last day freedom'\n",
            " 'sickk amp ground awesom weekend'\n",
            " 'go look paracetamol sinc good night sleep'\n",
            " 'good night last night go shop today internet work use neighbor wireless bad morn'\n",
            " 'poor roomat sick boob leak gross'\n",
            " 'best night letterfrack lol suffer tho thank good richard makin pancak onto galway citi later x'\n",
            " 'turin cat well poor boy schedul oper morn'\n",
            " 'watch taken love movi go get good night rest busi weekend await'\n",
            " 'cymberli oh poor leg love' 'much chocol bad'\n",
            " 'bavster twit u sip crap vodka nope done c k got omin knee pain good'\n",
            " 'jave good night sleep epic fail group today sorri guy'\n",
            " 'argh realli bad headach'\n",
            " 'brunett yeah felt bad que laugh hard rob dunk water hahaha'\n",
            " 'watch peacock garden camera set video miss great pic opportun'\n",
            " 'sportsgirlsplay coach forc retir good year ago due injuri coach us'\n",
            " 'came downstair morn immedi hit unmistak smell doggi diarea anoth min cleanup poor girl'\n",
            " 'birthday bad spend without hubbi'\n",
            " 'got bit hot poorlyish boy hand atm poor babi'\n",
            " 'good morn tweep im run bit late'\n",
            " 'well go well put much pressur arm use back hold bad idea came back home'\n",
            " 'good day everyon back school mrw'\n",
            " 'good day mobil pho ne realiz must pretti ugli'\n",
            " 'poor piston get swept ask'\n",
            " 'think like saw ride thorp park tv ad make feel sick good know ride would'\n",
            " 'fakefelipemassa oh poor thing'\n",
            " 'go see mom cancel anyway watch realli great movi haha'\n",
            " 'xrivergirl thank linkag get tire hear great'\n",
            " 'xiaoyan thank poor puff get old'\n",
            " 'kim bad sunburn kind sunburn need put lot lotion look pain'\n",
            " 'punkkretro absulut miss life good time'\n",
            " 'forgot take photo everybodi bad'\n",
            " 'great bbq lot love final sleep hope good work today colleg tomorrow still pretti stress'\n",
            " 'problem lack sauc sauc awesom enough'\n",
            " 'bobbi labont u get ur win soon enuf believ n mark amp got believ ull get bad michael waltrip wont'\n",
            " 'great day today stupid peep tom haha last day freedom tomorrow'\n",
            " 'boy bath bed wait bloomin fest tomorrow hope weather good look bad sunday'\n",
            " 'today patriot shirt day septemb seem far away roll new nfl season omg yanke lose match badli'\n",
            " 'lay bed watch favorit show whose wed anyway guess good gonna get'\n",
            " 'velvetella sorri hun kid scream grrrrrr would stay feel poorli promis play anoth day xxxxxxxx'\n",
            " 'feel nauseou good' 'min alreadi bad day'\n",
            " 'sister drag go upstair alreadi good night wish comput room'\n",
            " 'francesdath bad transit visit mani globe wander gypsi queer moment miss'\n",
            " 'mona cat got ran skull fractur poor thing' 'feel good home fam'\n",
            " 'bad throat much shout sing pub oop'\n",
            " 'kayle yawn pretti good thank awww sorri hear feel better soon lt'\n",
            " 'mommytoaprinc yeah si anymor though good live life what name sn might know'\n",
            " 'bad face day'\n",
            " 'sandihockeymom sarah connor hope guy great time follow stanley cup play tonight much work'\n",
            " 'good morn coffe watch ben alien forc matthew everi hour last night teeth'\n",
            " 'poor britney hard enough also ust got pwned stevi nick'\n",
            " 'want go con morn would bad moneywis rest fortnit' 'pob oooo good bb got'\n",
            " 'slack tweet ft smith see friend famili bad storm make nervou'\n",
            " 'run nose spin head good combin meet'\n",
            " 'stephenfri sad ref us finger cross next coupl game poor old gunni'\n",
            " 'observ amp report yo virgin def superbad star saw limp dick expect'\n",
            " 'good freez' 'queenkellylynn yup weather bad year peopl get stuff finish'\n",
            " 'ulovelac aww poor brian feel bad even though didnt anyth'\n",
            " 'say goodby momma month' 'still sofa pj fell good' 'amaz night bad end'\n",
            " 'great boston legal alway one go sobsob dinner time indycar later wrap weekend sobsob'\n",
            " 'downsid visit parent eat day long good home spring train take l tonight'\n",
            " 'thatfamousguy miss end credit highschool photo pee friggin bad lmao movi great'\n",
            " 'call hillsong said tell wait list know look good' 'feel v good abt'\n",
            " 'papa face bad juju' 'garethemeri tri get ticket sold listen good one'\n",
            " 'got realli bad cold thank darl husband rock give'\n",
            " 'sazzl pleas dont good honest'\n",
            " 'rock shop texa holdem hope good luck good bluff'\n",
            " 'new day feel better good place right want feel end'\n",
            " 'colour code note pain stakingli slow way organ studi perman maker smell good though highlight'\n",
            " 'ali omg daughter come home last night huge worri would mind poor'\n",
            " 'omg feel like jerk great guy think craigbi'\n",
            " 'leav good saturday night guy studi day tomorrow'\n",
            " 'daniel willi haha yeahh go togeth poor littl sick car'\n",
            " 'feel good finish read tomorrow start write essay wait adam return home monday'\n",
            " 'natmrobinson terribl end good thing switch book done picoult awhil read help like'\n",
            " 'wana see like soooooo badli cant parent busi isnt reason worst day ever'\n",
            " 'witch hour call domest desturb poor ladi realli upset look hurt k'\n",
            " 'hope great weekend home'\n",
            " 'know good describ symptom express friend face chang piti dismay'\n",
            " 'sveen na know good high hit peak gonna smoke gonna keep head straight'\n",
            " 'tummi feel good'\n",
            " 'joshgeeksix mayb sci fi scoop alway great show get cancel'\n",
            " 'yep anderson cooper said bad form mr cooper'\n",
            " 'janemcmurri bad one fanci nail dryer mess littl'\n",
            " 'got injur process k mark wast good lead time limp arounf'\n",
            " 'mom make delet twitter goodby tweet'\n",
            " 'know life flip upsid thought head ramen sound good'\n",
            " 'awww elli sound sick poor thing' 'good munchkinst feel well'\n",
            " 'would realli like good track info girli easter dress sent usp track system stink'\n",
            " 'massag great spill coke desk lame watch simpson finish hill dvd'\n",
            " 'want diana f look great'\n",
            " 'nckrzz nom great want tasti pizza onboard plane tasti anyth serv'\n",
            " 'awesom day shake weird feel'\n",
            " 'cat week sound good suck cash gonna watch hero ha' 'great'\n",
            " 'king good pleas nbc cancel' 'feel good day' 'ivyleagueescort good'\n",
            " 'secndcitysoire know tempt make switch first dell custom servic great feel http bit ly adsb'\n",
            " 'leeanneboyd cptn jacki cuz alreadi dog name jacki none girl whonivers good cat name'\n",
            " 'pushplaycj ooh alright well bad repli messag would need follow us order'\n",
            " 'davemark bad need natur day light strong artifici light get qualiti pic matter softwar iphon cam suck'\n",
            " 'omg im hardest time stay awak class ugh nighter bad idea need sleep'\n",
            " 'bad job except fungu ok'\n",
            " 'hit head realli hard open window life suck badli right'\n",
            " 'bad case bluey blue' 'veneziana stream start work world bad place'\n",
            " 'look forward ww meet good dieter week' 'hate homework head hurt bad'\n",
            " 'hungri thirstu badminton eat yet coz first reach lfsq'\n",
            " 'get pack texa week bad work'\n",
            " 'sad b c chuck lost tonight look good tonight great fighter'\n",
            " 'lexdeum im still slee good know ive miss u load r thing u thing r ok apart sleep'\n",
            " 'gigdiari poor gig'\n",
            " 'got soem nintend dsi point bad ahv wait week teher good game download'\n",
            " 'atlant iowa doesnt sound good'\n",
            " 'cant find laptop that reason price good edit softwar may save month'\n",
            " 'garcevisag oh make feel bad go'\n",
            " 'saw ageofstupid realli good hat team work hard make shame climat denier ask stupid qs'\n",
            " 'cant think awesom riff'\n",
            " 'good god ach might need gallon codliv oil morrow walk comp fun good fight win fanci nxt time'\n",
            " 'mialutz like good' 'elmooo elmooo haha there noth good tv'\n",
            " 'spongebob wast great usernam give meh plz'\n",
            " 'awwweee poor white castl steve'\n",
            " 'way citrin brianedelman meet cayleyd good time realli wish tarasilb us miss'\n",
            " 'goodnight space mountain spend next week pack say goodby play park fish monster soon'\n",
            " 'kimmaj that good kimma kind sick feel'\n",
            " 'made poor puppi throw two earplug string good puppi though done'\n",
            " 'wish knew ugh lose money good feel dont know play'\n",
            " 'drive lesson went pretti well need stop cross hand wheel appar though bad time'\n",
            " 'good afternoon hope everyon day go well gotta work pretti day ugh fine guess lol'\n",
            " 'kalichosich awww poor puppi ok'\n",
            " 'missbb read news seem keep get wors terribl'\n",
            " 'didnt anyth product weekend failureeeeee feel bad teacher photocopi past paper cu ask'\n",
            " 'everyon gb fv area cool stuff good weather today jefflast say pleasant sun amp mon'\n",
            " 'thenamesmeghan good luck meghan test suuuck'\n",
            " 'ivoireofdtp lol zo great miss right cuz town everyth'\n",
            " 'helenym aaawww poor thing first princess fishi'\n",
            " 'kal penn thank great charact hous sad see go'\n",
            " 'tri find real pictur put hopeless good pictur sigh unhappili'\n",
            " 'trolley pack like sardin padr game remov car good call mt'\n",
            " 'shoesandbook marri spanish man stay good diveorc xxpp dog live apt'\n",
            " 'daisyplusthre great compliment wish told look like alway hear look like pari hilton hate'\n",
            " 'know hour ago sister leav tonight day quick goodby'\n",
            " 'pinktowerladi good luck start test today peac us til friday'\n",
            " 'go love season hill tell spartan suck goodnight'\n",
            " 'ashleeadam ok want pizza real bad lol could dig meat lover right'\n",
            " 'dang think get good deal ebay make sure read fine print got poster damag'\n",
            " 'hmm coffe nolita use good happen'\n",
            " 'awak nice earli sunday morn thank child want alarm clock grow keep good work'\n",
            " 'mpbonlin rebroadcast clash live show record whyy pierr robert wmmr wish ms good radio station'\n",
            " 'katecameron oop meant dad gone amp good mum miss import bit yr still'\n",
            " 'briannack awesom near ukranian villag http qik com video audio interview drop horribl'\n",
            " 'hugbubbl im keep distanc well well away comment good male speci'\n",
            " 'gotta check new eminem song everyon talk get bad review twittervil hope isnt true'\n",
            " 'mummabauk awesom wish someth like cant studi'\n",
            " 'last day health class sad tomfelton pancak sound good'\n",
            " 'oh word throat hurt bad'\n",
            " 'theneolistickid finish chicken coop alreadi poor chicken shelfter send photo'\n",
            " 'girldeejay haha drop tri move insid got broken poor thing surviv past anyway'\n",
            " 'fuck alreadi fuck ankl moron thought good idea freak slip ice door'\n",
            " 'thebeerwench wow hope life bad rememb hop around corner help make happi'\n",
            " 'hope get work placement appli school tomorrow great'\n",
            " 'nighttimberwolf last night togeth good night twitter'\n",
            " 'good time case cluster headach alreadi morn fb'\n",
            " 'drop car rel shuldv anticip anoth bad monday'\n",
            " 'cutestmidget well thank encourag lost good guy court root win whole divis'\n",
            " 'good birthday time bed back juri duti'\n",
            " 'night end bad reationship work need detei marri life interest say least'\n",
            " 'pc eras random file sound good'\n",
            " 'cupcakeali hahahaha effin awesom dude talk girl friend met chri said rude'\n",
            " 'presssquar ddddd poor'\n",
            " 'sephystryx look good stuff write also load uni work'\n",
            " 'mustin kind failur due expir ingredi bad' 'realli bad cold'\n",
            " 'church stay late feel bad tire leg hurt'\n",
            " 'yeah final great weather ohio moment'\n",
            " 'watch fa cup tonight goodluck red devil'\n",
            " 'tommcfli hey guy back england welll super great last night wait next gig'\n",
            " 'lina oop hit enter bad today thank still hava bloodi sore throat tho'\n",
            " 'hate goodby' 'lara oz good gunna'\n",
            " 'come cold bad allergi either way miser'\n",
            " 'hey peoplez watch ye man realli bore talk great latest movei'\n",
            " 'bad luck follow around closer shadow'\n",
            " 'tanto stockholm friend today great time extrem tire easter break tomorrow'\n",
            " 'bad thing happen good peopl' 'step kitti tail cri feel terribl'\n",
            " 'much v aint good u']\n"
          ]
        }
      ]
    },
    {
      "cell_type": "code",
      "source": [
        "\n",
        "vectorizer=TfidfVectorizer()\n",
        "x_train=vectorizer.fit_transform(x_train)\n",
        "x_test=vectorizer.transform(x_test)"
      ],
      "metadata": {
        "id": "9PhnJqLXCp-d"
      },
      "execution_count": 239,
      "outputs": []
    },
    {
      "cell_type": "code",
      "source": [
        "print(x_train)"
      ],
      "metadata": {
        "colab": {
          "base_uri": "https://localhost:8080/"
        },
        "id": "yT0ihwy1DQRL",
        "outputId": "b5523902-3330-447c-84f5-784e96af3b1c"
      },
      "execution_count": 240,
      "outputs": [
        {
          "output_type": "stream",
          "name": "stdout",
          "text": [
            "  (0, 2205)\t0.27118679189120304\n",
            "  (0, 4922)\t0.24978723111452433\n",
            "  (0, 301)\t0.3210334080252798\n",
            "  (0, 2906)\t0.3443523734465911\n",
            "  (0, 2481)\t0.3443523734465911\n",
            "  (0, 670)\t0.4023347250009639\n",
            "  (0, 1400)\t0.2925863526678818\n",
            "  (0, 2134)\t0.2194207711124938\n",
            "  (0, 2988)\t0.19516766075913788\n",
            "  (0, 1851)\t0.10284872170615592\n",
            "  (0, 413)\t0.4237342857776426\n",
            "  (1, 5056)\t0.4394431664708333\n",
            "  (1, 4963)\t0.4494404578313221\n",
            "  (1, 3605)\t0.46126474382610083\n",
            "  (1, 3501)\t0.2107445084680294\n",
            "  (1, 3224)\t0.2767609321263875\n",
            "  (1, 2621)\t0.5206898817997162\n",
            "  (2, 3924)\t0.4668397279694898\n",
            "  (2, 3473)\t0.5230200019878982\n",
            "  (2, 2805)\t0.7130993941309666\n",
            "  (3, 894)\t0.5043171632931454\n",
            "  (3, 56)\t0.5043171632931454\n",
            "  (3, 2677)\t0.3385454828702834\n",
            "  (3, 2750)\t0.28963357563071274\n",
            "  (3, 1906)\t0.196193639854506\n",
            "  :\t:\n",
            "  (2253, 4913)\t0.32593750359283186\n",
            "  (2253, 4256)\t0.289276587774219\n",
            "  (2253, 4513)\t0.25134974107819785\n",
            "  (2253, 4557)\t0.21059251351940433\n",
            "  (2253, 4626)\t0.22024529512278834\n",
            "  (2253, 4295)\t0.22591096502619037\n",
            "  (2253, 2701)\t0.2125041265350318\n",
            "  (2253, 4395)\t0.2961601099932565\n",
            "  (2253, 1851)\t0.09373807929513622\n",
            "  (2254, 2094)\t0.5120576376555667\n",
            "  (2254, 2924)\t0.2894888071539926\n",
            "  (2254, 3621)\t0.4636721925096649\n",
            "  (2254, 4744)\t0.38995396905848567\n",
            "  (2254, 964)\t0.3462762923115919\n",
            "  (2254, 5006)\t0.30651977397007546\n",
            "  (2254, 1833)\t0.23360484409880086\n",
            "  (2254, 1851)\t0.13603066022709273\n",
            "  (2255, 4538)\t0.48017360270275206\n",
            "  (2255, 2941)\t0.48017360270275206\n",
            "  (2255, 3359)\t0.37821678753468096\n",
            "  (2255, 5087)\t0.3637934745746143\n",
            "  (2255, 4946)\t0.28647616327487674\n",
            "  (2255, 1584)\t0.34246161827290483\n",
            "  (2255, 5033)\t0.22481343794607\n",
            "  (2255, 1851)\t0.11654766416738073\n"
          ]
        }
      ]
    },
    {
      "cell_type": "code",
      "source": [
        "print(x_test)"
      ],
      "metadata": {
        "colab": {
          "base_uri": "https://localhost:8080/"
        },
        "id": "B7FxrgTsDgV4",
        "outputId": "18f2f388-d273-45a9-b5ef-cf453f1f5fb3"
      },
      "execution_count": 241,
      "outputs": [
        {
          "output_type": "stream",
          "name": "stdout",
          "text": [
            "  (0, 3953)\t0.3313451971701711\n",
            "  (0, 2924)\t0.2925865718739052\n",
            "  (0, 2314)\t0.4686338605398796\n",
            "  (0, 1851)\t0.13748629847515026\n",
            "  (0, 1444)\t0.3550841265596747\n",
            "  (0, 1242)\t0.38824401838170197\n",
            "  (0, 685)\t0.5378337345449881\n",
            "  (1, 5095)\t0.33384606676349754\n",
            "  (1, 5033)\t0.2455372121090528\n",
            "  (1, 3248)\t0.2787526346433007\n",
            "  (1, 3217)\t0.5244370123652331\n",
            "  (1, 2681)\t0.2859733117646319\n",
            "  (1, 2377)\t0.4261895626401439\n",
            "  (1, 1851)\t0.1272912722608051\n",
            "  (1, 1817)\t0.44260560726034676\n",
            "  (2, 1851)\t0.48914624160342096\n",
            "  (2, 1544)\t0.872201785325648\n",
            "  (3, 2033)\t0.9208873936246996\n",
            "  (3, 338)\t0.38982869091834105\n",
            "  (4, 4922)\t0.2824024181321658\n",
            "  (4, 4779)\t0.4548683242608132\n",
            "  (4, 4300)\t0.36737329855396145\n",
            "  (4, 4109)\t0.2686472769265517\n",
            "  (4, 3095)\t0.2660712319178313\n",
            "  (4, 2628)\t0.23940807141996645\n",
            "  :\t:\n",
            "  (560, 837)\t0.4847834911912562\n",
            "  (560, 338)\t0.15995743464322765\n",
            "  (560, 236)\t0.4099012354821876\n",
            "  (561, 4626)\t0.29628422628172807\n",
            "  (561, 4608)\t0.24324091861130223\n",
            "  (561, 4598)\t0.3487594016517146\n",
            "  (561, 4589)\t0.24601462263920226\n",
            "  (561, 1906)\t0.20211280287484112\n",
            "  (561, 1700)\t0.32731732997699564\n",
            "  (561, 1490)\t0.46023937555110006\n",
            "  (561, 1325)\t0.40358792194275256\n",
            "  (561, 581)\t0.384972057222426\n",
            "  (562, 4543)\t0.44292679404054225\n",
            "  (562, 3399)\t0.5677327152299722\n",
            "  (562, 2000)\t0.6161382977609723\n",
            "  (562, 1851)\t0.20389908010044516\n",
            "  (562, 338)\t0.2455487372090808\n",
            "  (563, 4500)\t0.3491557856399282\n",
            "  (563, 4440)\t0.581322687841701\n",
            "  (563, 2508)\t0.5284651914782222\n",
            "  (563, 1544)\t0.2649762221704073\n",
            "  (563, 995)\t0.43665353890109426\n",
            "  (564, 3031)\t0.5247683623795351\n",
            "  (564, 1851)\t0.21082423566324848\n",
            "  (564, 88)\t0.8247249890130092\n"
          ]
        }
      ]
    },
    {
      "cell_type": "code",
      "source": [
        "model=LogisticRegression(max_iter=1000)"
      ],
      "metadata": {
        "id": "0kdwdiMkDuDm"
      },
      "execution_count": 242,
      "outputs": []
    },
    {
      "cell_type": "code",
      "source": [
        "model.fit(x_train,y_train)"
      ],
      "metadata": {
        "colab": {
          "base_uri": "https://localhost:8080/",
          "height": 74
        },
        "id": "pC29-S9kEJHe",
        "outputId": "be1cbb6f-f31d-4abd-9b36-1cfdfc44b023"
      },
      "execution_count": 243,
      "outputs": [
        {
          "output_type": "execute_result",
          "data": {
            "text/plain": [
              "LogisticRegression(max_iter=1000)"
            ],
            "text/html": [
              "<style>#sk-container-id-4 {color: black;background-color: white;}#sk-container-id-4 pre{padding: 0;}#sk-container-id-4 div.sk-toggleable {background-color: white;}#sk-container-id-4 label.sk-toggleable__label {cursor: pointer;display: block;width: 100%;margin-bottom: 0;padding: 0.3em;box-sizing: border-box;text-align: center;}#sk-container-id-4 label.sk-toggleable__label-arrow:before {content: \"▸\";float: left;margin-right: 0.25em;color: #696969;}#sk-container-id-4 label.sk-toggleable__label-arrow:hover:before {color: black;}#sk-container-id-4 div.sk-estimator:hover label.sk-toggleable__label-arrow:before {color: black;}#sk-container-id-4 div.sk-toggleable__content {max-height: 0;max-width: 0;overflow: hidden;text-align: left;background-color: #f0f8ff;}#sk-container-id-4 div.sk-toggleable__content pre {margin: 0.2em;color: black;border-radius: 0.25em;background-color: #f0f8ff;}#sk-container-id-4 input.sk-toggleable__control:checked~div.sk-toggleable__content {max-height: 200px;max-width: 100%;overflow: auto;}#sk-container-id-4 input.sk-toggleable__control:checked~label.sk-toggleable__label-arrow:before {content: \"▾\";}#sk-container-id-4 div.sk-estimator input.sk-toggleable__control:checked~label.sk-toggleable__label {background-color: #d4ebff;}#sk-container-id-4 div.sk-label input.sk-toggleable__control:checked~label.sk-toggleable__label {background-color: #d4ebff;}#sk-container-id-4 input.sk-hidden--visually {border: 0;clip: rect(1px 1px 1px 1px);clip: rect(1px, 1px, 1px, 1px);height: 1px;margin: -1px;overflow: hidden;padding: 0;position: absolute;width: 1px;}#sk-container-id-4 div.sk-estimator {font-family: monospace;background-color: #f0f8ff;border: 1px dotted black;border-radius: 0.25em;box-sizing: border-box;margin-bottom: 0.5em;}#sk-container-id-4 div.sk-estimator:hover {background-color: #d4ebff;}#sk-container-id-4 div.sk-parallel-item::after {content: \"\";width: 100%;border-bottom: 1px solid gray;flex-grow: 1;}#sk-container-id-4 div.sk-label:hover label.sk-toggleable__label {background-color: #d4ebff;}#sk-container-id-4 div.sk-serial::before {content: \"\";position: absolute;border-left: 1px solid gray;box-sizing: border-box;top: 0;bottom: 0;left: 50%;z-index: 0;}#sk-container-id-4 div.sk-serial {display: flex;flex-direction: column;align-items: center;background-color: white;padding-right: 0.2em;padding-left: 0.2em;position: relative;}#sk-container-id-4 div.sk-item {position: relative;z-index: 1;}#sk-container-id-4 div.sk-parallel {display: flex;align-items: stretch;justify-content: center;background-color: white;position: relative;}#sk-container-id-4 div.sk-item::before, #sk-container-id-4 div.sk-parallel-item::before {content: \"\";position: absolute;border-left: 1px solid gray;box-sizing: border-box;top: 0;bottom: 0;left: 50%;z-index: -1;}#sk-container-id-4 div.sk-parallel-item {display: flex;flex-direction: column;z-index: 1;position: relative;background-color: white;}#sk-container-id-4 div.sk-parallel-item:first-child::after {align-self: flex-end;width: 50%;}#sk-container-id-4 div.sk-parallel-item:last-child::after {align-self: flex-start;width: 50%;}#sk-container-id-4 div.sk-parallel-item:only-child::after {width: 0;}#sk-container-id-4 div.sk-dashed-wrapped {border: 1px dashed gray;margin: 0 0.4em 0.5em 0.4em;box-sizing: border-box;padding-bottom: 0.4em;background-color: white;}#sk-container-id-4 div.sk-label label {font-family: monospace;font-weight: bold;display: inline-block;line-height: 1.2em;}#sk-container-id-4 div.sk-label-container {text-align: center;}#sk-container-id-4 div.sk-container {/* jupyter's `normalize.less` sets `[hidden] { display: none; }` but bootstrap.min.css set `[hidden] { display: none !important; }` so we also need the `!important` here to be able to override the default hidden behavior on the sphinx rendered scikit-learn.org. See: https://github.com/scikit-learn/scikit-learn/issues/21755 */display: inline-block !important;position: relative;}#sk-container-id-4 div.sk-text-repr-fallback {display: none;}</style><div id=\"sk-container-id-4\" class=\"sk-top-container\"><div class=\"sk-text-repr-fallback\"><pre>LogisticRegression(max_iter=1000)</pre><b>In a Jupyter environment, please rerun this cell to show the HTML representation or trust the notebook. <br />On GitHub, the HTML representation is unable to render, please try loading this page with nbviewer.org.</b></div><div class=\"sk-container\" hidden><div class=\"sk-item\"><div class=\"sk-estimator sk-toggleable\"><input class=\"sk-toggleable__control sk-hidden--visually\" id=\"sk-estimator-id-4\" type=\"checkbox\" checked><label for=\"sk-estimator-id-4\" class=\"sk-toggleable__label sk-toggleable__label-arrow\">LogisticRegression</label><div class=\"sk-toggleable__content\"><pre>LogisticRegression(max_iter=1000)</pre></div></div></div></div></div>"
            ]
          },
          "metadata": {},
          "execution_count": 243
        }
      ]
    },
    {
      "cell_type": "code",
      "source": [
        "x_train_prediction=model.predict(x_train)\n",
        "training_data_accuracy=accuracy_score(y_train,x_train_prediction)"
      ],
      "metadata": {
        "id": "OUXH22ItEchl"
      },
      "execution_count": 244,
      "outputs": []
    },
    {
      "cell_type": "code",
      "source": [
        "print('Accuracy score on the training data :',training_data_accuracy)"
      ],
      "metadata": {
        "colab": {
          "base_uri": "https://localhost:8080/"
        },
        "id": "Vrw8YV7XE3K5",
        "outputId": "7ad74268-3e79-470a-82a9-84b0ef94d3e3"
      },
      "execution_count": 245,
      "outputs": [
        {
          "output_type": "stream",
          "name": "stdout",
          "text": [
            "Accuracy score on the training data : 0.9929078014184397\n"
          ]
        }
      ]
    },
    {
      "cell_type": "code",
      "source": [
        "x_test_prediction=model.predict(x_test)\n",
        "test_data_accuracy=accuracy_score(y_test,x_test_prediction)"
      ],
      "metadata": {
        "id": "FxfzlGAxFIhP"
      },
      "execution_count": 246,
      "outputs": []
    },
    {
      "cell_type": "code",
      "source": [
        "print('Accuracy score on the test data :',test_data_accuracy)"
      ],
      "metadata": {
        "colab": {
          "base_uri": "https://localhost:8080/"
        },
        "id": "kicM9qvauh3i",
        "outputId": "8e2d9a78-a64a-4782-b4a4-aecc87c60851"
      },
      "execution_count": 247,
      "outputs": [
        {
          "output_type": "stream",
          "name": "stdout",
          "text": [
            "Accuracy score on the test data : 0.9699115044247788\n"
          ]
        }
      ]
    },
    {
      "cell_type": "code",
      "source": [
        "import pickle"
      ],
      "metadata": {
        "id": "sfIJhSkQvAcf"
      },
      "execution_count": 248,
      "outputs": []
    },
    {
      "cell_type": "code",
      "source": [
        "filename='trained_model.sav'\n",
        "pickle.dump(model,open(filename,'wb'))"
      ],
      "metadata": {
        "id": "lxyX59rQvmNM"
      },
      "execution_count": 249,
      "outputs": []
    },
    {
      "cell_type": "code",
      "source": [
        "loaded_model=pickle.load(open('/content/trained_model.sav','rb'))"
      ],
      "metadata": {
        "id": "-gU2ZkEqwBaC"
      },
      "execution_count": 250,
      "outputs": []
    },
    {
      "cell_type": "code",
      "source": [
        "x_new=x_test[200]\n",
        "print(y_test[200])\n",
        "prediction=model.predict(x_new)\n",
        "print(prediction)\n",
        "if (prediction[0]==0):\n",
        "  print('The tweet is negative')\n",
        "else:\n",
        "  print('The tweet is positive')"
      ],
      "metadata": {
        "colab": {
          "base_uri": "https://localhost:8080/"
        },
        "id": "nrnima80wUSw",
        "outputId": "910ff6ce-a168-4390-da3c-9f7f15511cce"
      },
      "execution_count": 251,
      "outputs": [
        {
          "output_type": "stream",
          "name": "stdout",
          "text": [
            "0.0\n",
            "[0.]\n",
            "The tweet is negative\n"
          ]
        }
      ]
    },
    {
      "cell_type": "code",
      "source": [
        "x_new=x_test[3]\n",
        "print(y_test[3])\n",
        "prediction=loaded_model.predict(x_new)\n",
        "print(prediction)\n",
        "if (prediction[0]==0):\n",
        "  print('The tweet is negative')\n",
        "else:\n",
        "  print('The tweet is positive')\n"
      ],
      "metadata": {
        "colab": {
          "base_uri": "https://localhost:8080/"
        },
        "id": "kO-h2HefxGPB",
        "outputId": "5fc0ccd6-9bdd-42b5-e97a-51e266fbecec"
      },
      "execution_count": 252,
      "outputs": [
        {
          "output_type": "stream",
          "name": "stdout",
          "text": [
            "0.0\n",
            "[0.]\n",
            "The tweet is negative\n"
          ]
        }
      ]
    },
    {
      "cell_type": "code",
      "source": [
        "x_new=x_test[500]\n",
        "print(y_test[500])\n",
        "prediction=loaded_model.predict(x_new)\n",
        "print(prediction)\n",
        "if (prediction[0]==0):\n",
        "  print('The tweet is negative')\n",
        "else:\n",
        "  print('The tweet is positive')"
      ],
      "metadata": {
        "colab": {
          "base_uri": "https://localhost:8080/"
        },
        "id": "mXoE6eS6x4zA",
        "outputId": "0575a210-9a0a-4af9-db18-4b6465909c6d"
      },
      "execution_count": 253,
      "outputs": [
        {
          "output_type": "stream",
          "name": "stdout",
          "text": [
            "1.0\n",
            "[1.]\n",
            "The tweet is positive\n"
          ]
        }
      ]
    },
    {
      "cell_type": "code",
      "source": [
        "import pandas as pd\n",
        "import seaborn as sns\n",
        "import matplotlib.pyplot as plt\n",
        "sentiment_counts = sentiment_data['sentiment'].value_counts()\n",
        "plt.figure(figsize=(8, 6))\n",
        "sns.countplot(x='sentiment', data=sentiment_data, order=sentiment_counts.index)\n",
        "plt.title('Sentiment Distribution')\n",
        "plt.xlabel('Sentiment')\n",
        "plt.ylabel('Count')\n",
        "plt.show()\n"
      ],
      "metadata": {
        "colab": {
          "base_uri": "https://localhost:8080/",
          "height": 536
        },
        "id": "A_4IPDZc5Gym",
        "outputId": "f1660568-ac1d-4c9a-e572-c17c275f207c"
      },
      "execution_count": 254,
      "outputs": [
        {
          "output_type": "display_data",
          "data": {
            "text/plain": [
              "<Figure size 800x600 with 1 Axes>"
            ],
            "image/png": "[encoded data removed]"
          },
          "metadata": {}
        }
      ]
    },
    {
      "cell_type": "code",
      "source": [
        "from sklearn.feature_extraction.text import TfidfVectorizer\n",
        "from sklearn.model_selection import train_test_split\n",
        "from sklearn.metrics import accuracy_score, precision_score, recall_score, f1_score, classification_report\n",
        "from sklearn.linear_model import LogisticRegression\n",
        "tfidf_vectorizer = TfidfVectorizer(max_features=5000)\n",
        "X = tfidf_vectorizer.fit_transform(sentiment_data['sentiment'])\n",
        "y = sentiment_data['target']\n",
        "X_train, X_test, y_train, y_test = train_test_split(X, y, test_size=0.2, random_state=42)\n",
        "model = LogisticRegression()\n",
        "model.fit(X_train, y_train)\n",
        "y_pred = model.predict(X_test)\n",
        "accuracy = accuracy_score(y_test, y_pred)\n",
        "precision = precision_score(y_test, y_pred)\n",
        "recall = recall_score(y_test, y_pred)\n",
        "f1 = f1_score(y_test, y_pred)\n",
        "print(\"Evaluation Metrics:\")\n",
        "print(f\"Accuracy: {accuracy:.4f}\")\n",
        "print(f\"Precision: {precision:.4f}\")\n",
        "print(f\"Recall: {recall:.4f}\")\n",
        "print(f\"F1-score: {f1:.4f}\")\n",
        "print(\"\\nClassification Report:\")\n",
        "print(classification_report(y_test, y_pred))\n"
      ],
      "metadata": {
        "colab": {
          "base_uri": "https://localhost:8080/"
        },
        "id": "uLLeAM018dM_",
        "outputId": "0ed72487-4526-4d5c-b60b-4c4499a3e95e"
      },
      "execution_count": 258,
      "outputs": [
        {
          "output_type": "stream",
          "name": "stdout",
          "text": [
            "Evaluation Metrics:\n",
            "Accuracy: 1.0000\n",
            "Precision: 1.0000\n",
            "Recall: 1.0000\n",
            "F1-score: 1.0000\n",
            "\n",
            "Classification Report:\n",
            "              precision    recall  f1-score   support\n",
            "\n",
            "         0.0       1.00      1.00      1.00       238\n",
            "         1.0       1.00      1.00      1.00       327\n",
            "\n",
            "    accuracy                           1.00       565\n",
            "   macro avg       1.00      1.00      1.00       565\n",
            "weighted avg       1.00      1.00      1.00       565\n",
            "\n"
          ]
        }
      ]
    },
    {
      "cell_type": "code",
      "source": [],
      "metadata": {
        "id": "C088Tgfp82XO"
      },
      "execution_count": null,
      "outputs": []
    }
  ]
}